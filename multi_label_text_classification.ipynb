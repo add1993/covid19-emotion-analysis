{
  "nbformat": 4,
  "nbformat_minor": 0,
  "metadata": {
    "kernelspec": {
      "display_name": "Python 3",
      "language": "python",
      "name": "python3"
    },
    "language_info": {
      "codemirror_mode": {
        "name": "ipython",
        "version": 3
      },
      "file_extension": ".py",
      "mimetype": "text/x-python",
      "name": "python",
      "nbconvert_exporter": "python",
      "pygments_lexer": "ipython3",
      "version": "3.6.4"
    },
    "colab": {
      "name": "Multi label text classification.ipynb",
      "provenance": [],
      "collapsed_sections": [],
      "toc_visible": true
    }
  },
  "cells": [
    {
      "cell_type": "markdown",
      "metadata": {
        "id": "c9NoqdPF4g1s",
        "colab_type": "text"
      },
      "source": [
        "Load the required libraries like nltk, re, matplotlib, numpy, pandas, sklearn for the project to work. Please, make sure to upload the train and test files and change the file paths accordingly."
      ]
    },
    {
      "cell_type": "code",
      "metadata": {
        "id": "wBs8mb3ofw1N",
        "colab_type": "code",
        "outputId": "4b69f5ad-1123-4b0b-8664-cc4aca414fbe",
        "colab": {
          "base_uri": "https://localhost:8080/",
          "height": 54
        }
      },
      "source": [
        "import nltk\n",
        "nltk.download('stopwords')\n",
        "import re\n",
        "import matplotlib\n",
        "import numpy as np\n",
        "import matplotlib.pyplot as plt\n",
        "import pandas as pd\n",
        "from sklearn.model_selection import train_test_split\n",
        "from sklearn.feature_extraction.text import TfidfVectorizer\n",
        "from sklearn.naive_bayes import MultinomialNB\n",
        "from sklearn.metrics import accuracy_score, f1_score, recall_score\n",
        "from sklearn.multiclass import OneVsRestClassifier\n",
        "from nltk.corpus import stopwords\n",
        "stop_words = set(stopwords.words('english'))\n",
        "from sklearn.svm import LinearSVC\n",
        "from sklearn.linear_model import LogisticRegression\n",
        "from sklearn.ensemble import RandomForestClassifier\n",
        "from sklearn.ensemble import GradientBoostingClassifier\n",
        "from sklearn.metrics import precision_recall_fscore_support as score\n",
        "from sklearn.pipeline import Pipeline\n",
        "from gensim.models import Word2Vec\n",
        "import seaborn as sns"
      ],
      "execution_count": 42,
      "outputs": [
        {
          "output_type": "stream",
          "text": [
            "[nltk_data] Downloading package stopwords to /root/nltk_data...\n",
            "[nltk_data]   Package stopwords is already up-to-date!\n"
          ],
          "name": "stdout"
        }
      ]
    },
    {
      "cell_type": "markdown",
      "metadata": {
        "id": "VTQRDC4n4_MR",
        "colab_type": "text"
      },
      "source": [
        "This cell contains all the inputs and constants required to run the notebook. Please, set the values accordingly."
      ]
    },
    {
      "cell_type": "code",
      "metadata": {
        "id": "2_Qlma_B49MM",
        "colab_type": "code",
        "colab": {}
      },
      "source": [
        "train_file_path = \"nlp_train.csv\"\n",
        "test_file_path = \"nlp_test.csv\"\n",
        "encoding = \"ISO-8859-1\"\n",
        "text_field_label = \"body\"\n",
        "emotions = ['anger', 'anticipation', 'disgust', 'fear', 'joy', 'love','optimism', 'pessimism', 'sadness', 'surprise', 'trust', 'neutral']"
      ],
      "execution_count": 0,
      "outputs": []
    },
    {
      "cell_type": "code",
      "metadata": {
        "id": "gq01pN6ifw2L",
        "colab_type": "code",
        "colab": {}
      },
      "source": [
        "df_train = pd.read_csv(train_file_path, encoding = encoding)\n",
        "df_test = pd.read_csv(test_file_path, encoding = encoding)"
      ],
      "execution_count": 0,
      "outputs": []
    },
    {
      "cell_type": "markdown",
      "metadata": {
        "id": "uKFx2Xb2fw3D",
        "colab_type": "text"
      },
      "source": [
        "### Number of posts for each emotion for training data"
      ]
    },
    {
      "cell_type": "code",
      "metadata": {
        "id": "wS5NDp4ufw3f",
        "colab_type": "code",
        "outputId": "35c00dd3-3d90-4867-9926-fd6546032f62",
        "colab": {
          "base_uri": "https://localhost:8080/",
          "height": 426
        }
      },
      "source": [
        "df_train_sub = df_train.drop([text_field_label], axis=1)\n",
        "counts = []\n",
        "categories = list(df_train_sub.columns.values)\n",
        "for i in categories:\n",
        "    counts.append((i, df_train_sub[i].sum()))\n",
        "df_stats_train = pd.DataFrame(counts, columns=['emotion', 'number_of_posts_train'])\n",
        "df_stats_train"
      ],
      "execution_count": 5,
      "outputs": [
        {
          "output_type": "execute_result",
          "data": {
            "text/html": [
              "<div>\n",
              "<style scoped>\n",
              "    .dataframe tbody tr th:only-of-type {\n",
              "        vertical-align: middle;\n",
              "    }\n",
              "\n",
              "    .dataframe tbody tr th {\n",
              "        vertical-align: top;\n",
              "    }\n",
              "\n",
              "    .dataframe thead th {\n",
              "        text-align: right;\n",
              "    }\n",
              "</style>\n",
              "<table border=\"1\" class=\"dataframe\">\n",
              "  <thead>\n",
              "    <tr style=\"text-align: right;\">\n",
              "      <th></th>\n",
              "      <th>emotion</th>\n",
              "      <th>number_of_posts_train</th>\n",
              "    </tr>\n",
              "  </thead>\n",
              "  <tbody>\n",
              "    <tr>\n",
              "      <th>0</th>\n",
              "      <td>anger</td>\n",
              "      <td>544</td>\n",
              "    </tr>\n",
              "    <tr>\n",
              "      <th>1</th>\n",
              "      <td>anticipation</td>\n",
              "      <td>751</td>\n",
              "    </tr>\n",
              "    <tr>\n",
              "      <th>2</th>\n",
              "      <td>disgust</td>\n",
              "      <td>678</td>\n",
              "    </tr>\n",
              "    <tr>\n",
              "      <th>3</th>\n",
              "      <td>fear</td>\n",
              "      <td>678</td>\n",
              "    </tr>\n",
              "    <tr>\n",
              "      <th>4</th>\n",
              "      <td>joy</td>\n",
              "      <td>185</td>\n",
              "    </tr>\n",
              "    <tr>\n",
              "      <th>5</th>\n",
              "      <td>love</td>\n",
              "      <td>138</td>\n",
              "    </tr>\n",
              "    <tr>\n",
              "      <th>6</th>\n",
              "      <td>optimism</td>\n",
              "      <td>490</td>\n",
              "    </tr>\n",
              "    <tr>\n",
              "      <th>7</th>\n",
              "      <td>pessimism</td>\n",
              "      <td>646</td>\n",
              "    </tr>\n",
              "    <tr>\n",
              "      <th>8</th>\n",
              "      <td>sadness</td>\n",
              "      <td>414</td>\n",
              "    </tr>\n",
              "    <tr>\n",
              "      <th>9</th>\n",
              "      <td>surprise</td>\n",
              "      <td>162</td>\n",
              "    </tr>\n",
              "    <tr>\n",
              "      <th>10</th>\n",
              "      <td>trust</td>\n",
              "      <td>251</td>\n",
              "    </tr>\n",
              "    <tr>\n",
              "      <th>11</th>\n",
              "      <td>neutral</td>\n",
              "      <td>169</td>\n",
              "    </tr>\n",
              "  </tbody>\n",
              "</table>\n",
              "</div>"
            ],
            "text/plain": [
              "         emotion  number_of_posts_train\n",
              "0          anger                    544\n",
              "1   anticipation                    751\n",
              "2        disgust                    678\n",
              "3           fear                    678\n",
              "4            joy                    185\n",
              "5           love                    138\n",
              "6       optimism                    490\n",
              "7      pessimism                    646\n",
              "8        sadness                    414\n",
              "9       surprise                    162\n",
              "10         trust                    251\n",
              "11       neutral                    169"
            ]
          },
          "metadata": {
            "tags": []
          },
          "execution_count": 5
        }
      ]
    },
    {
      "cell_type": "code",
      "metadata": {
        "id": "nBTR1enUfw4J",
        "colab_type": "code",
        "outputId": "f452e8cb-5b35-4874-8cd4-241f681a144b",
        "colab": {
          "base_uri": "https://localhost:8080/",
          "height": 583
        }
      },
      "source": [
        "df_stats_train.plot(x='emotion', y='number_of_posts_train', kind='bar', legend=False, grid=True, figsize=(12, 8))\n",
        "plt.title(\"Number of post per emotion histogram for train data\")\n",
        "plt.ylabel('# of Occurrences', fontsize=12)\n",
        "plt.xlabel('Emotion', fontsize=12)"
      ],
      "execution_count": 6,
      "outputs": [
        {
          "output_type": "execute_result",
          "data": {
            "text/plain": [
              "Text(0.5, 0, 'Emotion')"
            ]
          },
          "metadata": {
            "tags": []
          },
          "execution_count": 6
        },
        {
          "output_type": "display_data",
          "data": {
            "image/png": "[encoded data removed]",
            "text/plain": [
              "<Figure size 864x576 with 1 Axes>"
            ]
          },
          "metadata": {
            "tags": [],
            "needs_background": "light"
          }
        }
      ]
    },
    {
      "cell_type": "markdown",
      "metadata": {
        "id": "NvtnG2oQ-84N",
        "colab_type": "text"
      },
      "source": [
        "Post length distribution for training data"
      ]
    },
    {
      "cell_type": "code",
      "metadata": {
        "id": "7DjWbsYGfw5n",
        "colab_type": "code",
        "outputId": "7bdf4a9d-db22-415f-a364-7b11d36259de",
        "colab": {
          "base_uri": "https://localhost:8080/",
          "height": 501
        }
      },
      "source": [
        "lens = df_train.body.str.len()\n",
        "lens.hist(bins = np.arange(0,5000,50), figsize=(12,8))"
      ],
      "execution_count": 7,
      "outputs": [
        {
          "output_type": "execute_result",
          "data": {
            "text/plain": [
              "<matplotlib.axes._subplots.AxesSubplot at 0x7f9702979c88>"
            ]
          },
          "metadata": {
            "tags": []
          },
          "execution_count": 7
        },
        {
          "output_type": "display_data",
          "data": {
            "image/png": "[encoded data removed]",
            "text/plain": [
              "<Figure size 864x576 with 1 Axes>"
            ]
          },
          "metadata": {
            "tags": [],
            "needs_background": "light"
          }
        }
      ]
    },
    {
      "cell_type": "code",
      "metadata": {
        "id": "Eo6PhFkm7S7k",
        "colab_type": "code",
        "colab": {
          "base_uri": "https://localhost:8080/",
          "height": 426
        },
        "outputId": "6bb8af3b-d79e-4d17-ba57-35352857d264"
      },
      "source": [
        "df_test_sub = df_test.drop([text_field_label], axis=1)\n",
        "counts = []\n",
        "categories = list(df_test_sub.columns.values)\n",
        "for i in categories:\n",
        "    counts.append((i, df_test_sub[i].sum()))\n",
        "df_stats_test = pd.DataFrame(counts, columns=['emotion', 'number_of_posts_test'])\n",
        "df_stats_test"
      ],
      "execution_count": 8,
      "outputs": [
        {
          "output_type": "execute_result",
          "data": {
            "text/html": [
              "<div>\n",
              "<style scoped>\n",
              "    .dataframe tbody tr th:only-of-type {\n",
              "        vertical-align: middle;\n",
              "    }\n",
              "\n",
              "    .dataframe tbody tr th {\n",
              "        vertical-align: top;\n",
              "    }\n",
              "\n",
              "    .dataframe thead th {\n",
              "        text-align: right;\n",
              "    }\n",
              "</style>\n",
              "<table border=\"1\" class=\"dataframe\">\n",
              "  <thead>\n",
              "    <tr style=\"text-align: right;\">\n",
              "      <th></th>\n",
              "      <th>emotion</th>\n",
              "      <th>number_of_posts_test</th>\n",
              "    </tr>\n",
              "  </thead>\n",
              "  <tbody>\n",
              "    <tr>\n",
              "      <th>0</th>\n",
              "      <td>anger</td>\n",
              "      <td>121</td>\n",
              "    </tr>\n",
              "    <tr>\n",
              "      <th>1</th>\n",
              "      <td>anticipation</td>\n",
              "      <td>218</td>\n",
              "    </tr>\n",
              "    <tr>\n",
              "      <th>2</th>\n",
              "      <td>disgust</td>\n",
              "      <td>156</td>\n",
              "    </tr>\n",
              "    <tr>\n",
              "      <th>3</th>\n",
              "      <td>fear</td>\n",
              "      <td>195</td>\n",
              "    </tr>\n",
              "    <tr>\n",
              "      <th>4</th>\n",
              "      <td>joy</td>\n",
              "      <td>70</td>\n",
              "    </tr>\n",
              "    <tr>\n",
              "      <th>5</th>\n",
              "      <td>love</td>\n",
              "      <td>30</td>\n",
              "    </tr>\n",
              "    <tr>\n",
              "      <th>6</th>\n",
              "      <td>optimism</td>\n",
              "      <td>97</td>\n",
              "    </tr>\n",
              "    <tr>\n",
              "      <th>7</th>\n",
              "      <td>pessimism</td>\n",
              "      <td>120</td>\n",
              "    </tr>\n",
              "    <tr>\n",
              "      <th>8</th>\n",
              "      <td>sadness</td>\n",
              "      <td>136</td>\n",
              "    </tr>\n",
              "    <tr>\n",
              "      <th>9</th>\n",
              "      <td>surprise</td>\n",
              "      <td>49</td>\n",
              "    </tr>\n",
              "    <tr>\n",
              "      <th>10</th>\n",
              "      <td>trust</td>\n",
              "      <td>60</td>\n",
              "    </tr>\n",
              "    <tr>\n",
              "      <th>11</th>\n",
              "      <td>neutral</td>\n",
              "      <td>38</td>\n",
              "    </tr>\n",
              "  </tbody>\n",
              "</table>\n",
              "</div>"
            ],
            "text/plain": [
              "         emotion  number_of_posts_test\n",
              "0          anger                   121\n",
              "1   anticipation                   218\n",
              "2        disgust                   156\n",
              "3           fear                   195\n",
              "4            joy                    70\n",
              "5           love                    30\n",
              "6       optimism                    97\n",
              "7      pessimism                   120\n",
              "8        sadness                   136\n",
              "9       surprise                    49\n",
              "10         trust                    60\n",
              "11       neutral                    38"
            ]
          },
          "metadata": {
            "tags": []
          },
          "execution_count": 8
        }
      ]
    },
    {
      "cell_type": "code",
      "metadata": {
        "id": "cJQgaqW48f8p",
        "colab_type": "code",
        "colab": {
          "base_uri": "https://localhost:8080/",
          "height": 583
        },
        "outputId": "7dddfefc-9e78-4fe0-d3aa-337db05ef924"
      },
      "source": [
        "df_stats_test.plot(x='emotion', y='number_of_posts_test', kind='bar', legend=False, grid=True, figsize=(12, 8))\n",
        "plt.title(\"Number of post per emotion histogram for test data\")\n",
        "plt.ylabel('# of Occurrences', fontsize=12)\n",
        "plt.xlabel('Emotion', fontsize=12)"
      ],
      "execution_count": 9,
      "outputs": [
        {
          "output_type": "execute_result",
          "data": {
            "text/plain": [
              "Text(0.5, 0, 'Emotion')"
            ]
          },
          "metadata": {
            "tags": []
          },
          "execution_count": 9
        },
        {
          "output_type": "display_data",
          "data": {
            "image/png": "[encoded data removed]",
            "text/plain": [
              "<Figure size 864x576 with 1 Axes>"
            ]
          },
          "metadata": {
            "tags": [],
            "needs_background": "light"
          }
        }
      ]
    },
    {
      "cell_type": "markdown",
      "metadata": {
        "id": "tUydD0Jufw4p",
        "colab_type": "text"
      },
      "source": [
        "### Multi-Label posts distribution\n",
        "\n",
        "We will visualize how many posts have multiple labels"
      ]
    },
    {
      "cell_type": "code",
      "metadata": {
        "id": "x2lihjjVfw4v",
        "colab_type": "code",
        "outputId": "7f5ff060-1086-437d-fef5-8f3e8b071ca6",
        "colab": {
          "base_uri": "https://localhost:8080/",
          "height": 534
        }
      },
      "source": [
        "rowsums = df_train.iloc[:,2:].sum(axis=1)\n",
        "x=rowsums.value_counts()\n",
        "\n",
        "#plot\n",
        "plt.figure(figsize=(12,8))\n",
        "ax = sns.barplot(x.index, x.values)\n",
        "plt.title(\"Multiple emotions per post for training data\")\n",
        "plt.ylabel('# of Occurrences', fontsize=12)\n",
        "plt.xlabel('# of Emotions', fontsize=12)"
      ],
      "execution_count": 10,
      "outputs": [
        {
          "output_type": "execute_result",
          "data": {
            "text/plain": [
              "Text(0.5, 0, '# of Emotions')"
            ]
          },
          "metadata": {
            "tags": []
          },
          "execution_count": 10
        },
        {
          "output_type": "display_data",
          "data": {
            "image/png": "[encoded data removed]",
            "text/plain": [
              "<Figure size 864x576 with 1 Axes>"
            ]
          },
          "metadata": {
            "tags": [],
            "needs_background": "light"
          }
        }
      ]
    },
    {
      "cell_type": "code",
      "metadata": {
        "id": "5tdGX2yH9f8Z",
        "colab_type": "code",
        "colab": {
          "base_uri": "https://localhost:8080/",
          "height": 534
        },
        "outputId": "314b0496-9c71-4e1c-acd8-5eb5ff9e1878"
      },
      "source": [
        "rowsums = df_test.iloc[:,2:].sum(axis=1)\n",
        "x = rowsums.value_counts()\n",
        "\n",
        "plt.figure(figsize=(12,8))\n",
        "ax = sns.barplot(x.index, x.values)\n",
        "plt.title(\"Multiple emotions per post for test data\")\n",
        "plt.ylabel('# of Occurrences', fontsize=12)\n",
        "plt.xlabel('# of Emotions', fontsize=12)"
      ],
      "execution_count": 11,
      "outputs": [
        {
          "output_type": "execute_result",
          "data": {
            "text/plain": [
              "Text(0.5, 0, '# of Emotions')"
            ]
          },
          "metadata": {
            "tags": []
          },
          "execution_count": 11
        },
        {
          "output_type": "display_data",
          "data": {
            "image/png": "[encoded data removed]",
            "text/plain": [
              "<Figure size 864x576 with 1 Axes>"
            ]
          },
          "metadata": {
            "tags": [],
            "needs_background": "light"
          }
        }
      ]
    },
    {
      "cell_type": "markdown",
      "metadata": {
        "id": "exEsYc2ofw8Q",
        "colab_type": "text"
      },
      "source": [
        "### Create a function to clean the text"
      ]
    },
    {
      "cell_type": "code",
      "metadata": {
        "id": "c9lthOb5fw8X",
        "colab_type": "code",
        "colab": {}
      },
      "source": [
        "def clean_text(text):\n",
        "    text = text.lower()\n",
        "    text = re.sub(r\"what's\", \"what is \", text)\n",
        "    text = re.sub(r\"\\'s\", \" \", text)\n",
        "    text = re.sub(r\"\\'ve\", \" have \", text)\n",
        "    text = re.sub(r\"can't\", \"can not \", text)\n",
        "    text = re.sub(r\"n't\", \" not \", text)\n",
        "    text = re.sub(r\"i'm\", \"i am \", text)\n",
        "    text = re.sub(r\"\\'re\", \" are \", text)\n",
        "    text = re.sub(r\"\\'d\", \" would \", text)\n",
        "    text = re.sub(r\"\\'ll\", \" will \", text)\n",
        "    text = re.sub(r\"\\'scuse\", \" excuse \", text)\n",
        "    text = re.sub('\\W', ' ', text)\n",
        "    text = re.sub('\\s+', ' ', text)\n",
        "    text = text.strip(' ')\n",
        "    return text"
      ],
      "execution_count": 0,
      "outputs": []
    },
    {
      "cell_type": "markdown",
      "metadata": {
        "id": "zvOygB3Ifw8u",
        "colab_type": "text"
      },
      "source": [
        "### Clean up posts data using regex "
      ]
    },
    {
      "cell_type": "code",
      "metadata": {
        "id": "Mo_Znqd6fw81",
        "colab_type": "code",
        "colab": {}
      },
      "source": [
        "df_train['body'] = df_train['body'].map(lambda com : clean_text(com))\n",
        "df_test['body'] = df_test['body'].map(lambda com : clean_text(com))"
      ],
      "execution_count": 0,
      "outputs": []
    },
    {
      "cell_type": "markdown",
      "metadata": {
        "id": "VX8Qh4Avfw9k",
        "colab_type": "text"
      },
      "source": [
        "### Drop Nan from the train and test dataframes"
      ]
    },
    {
      "cell_type": "code",
      "metadata": {
        "id": "rXugVmAPfw9p",
        "colab_type": "code",
        "colab": {}
      },
      "source": [
        "train = df_train.dropna()\n",
        "test = df_test.dropna()"
      ],
      "execution_count": 0,
      "outputs": []
    },
    {
      "cell_type": "code",
      "metadata": {
        "id": "9j1hTIVmfw-J",
        "colab_type": "code",
        "outputId": "0a5f0dcb-80b9-4955-ea57-35088e7b9412",
        "colab": {
          "base_uri": "https://localhost:8080/",
          "height": 145
        }
      },
      "source": [
        "X_train = train.body\n",
        "X_test = test.body\n",
        "train.replace(True, 1, inplace=True)\n",
        "train.replace(False, 0, inplace=True)\n",
        "test.replace(True, 1, inplace=True)\n",
        "test.replace(False, 0, inplace=True)\n",
        "print(X_train.shape)\n",
        "print(X_test.shape)"
      ],
      "execution_count": 16,
      "outputs": [
        {
          "output_type": "stream",
          "text": [
            "(1493,)\n",
            "(374,)\n"
          ],
          "name": "stdout"
        },
        {
          "output_type": "stream",
          "text": [
            "/usr/local/lib/python3.6/dist-packages/pandas/core/frame.py:4172: SettingWithCopyWarning: \n",
            "A value is trying to be set on a copy of a slice from a DataFrame\n",
            "\n",
            "See the caveats in the documentation: https://pandas.pydata.org/pandas-docs/stable/user_guide/indexing.html#returning-a-view-versus-a-copy\n",
            "  method=method,\n"
          ],
          "name": "stderr"
        }
      ]
    },
    {
      "cell_type": "code",
      "metadata": {
        "id": "6drL8pc-7NGE",
        "colab_type": "code",
        "colab": {}
      },
      "source": [
        "#df_emotion = pd.DataFrame(columns=['anger', 'anticipation', 'disgust', 'fear', 'joy', 'love','optimism', 'pessimism', 'sadness', 'surprise', 'trust', 'neutral'])"
      ],
      "execution_count": 0,
      "outputs": []
    },
    {
      "cell_type": "markdown",
      "metadata": {
        "id": "v365ik1lfw-i",
        "colab_type": "text"
      },
      "source": [
        "### Naive Bayes\n"
      ]
    },
    {
      "cell_type": "code",
      "metadata": {
        "id": "Xz9MKo-Dfw-k",
        "colab_type": "code",
        "colab": {}
      },
      "source": [
        "# Define a pipeline combining a text feature extractor with multi lable classifier\n",
        "NB_pipeline = Pipeline([\n",
        "                ('tfidf', TfidfVectorizer(stop_words=stop_words)),\n",
        "                ('clf', OneVsRestClassifier(MultinomialNB(\n",
        "                    fit_prior=True, class_prior=None))),\n",
        "            ])"
      ],
      "execution_count": 0,
      "outputs": []
    },
    {
      "cell_type": "code",
      "metadata": {
        "id": "rQnRWbk7fw-0",
        "colab_type": "code",
        "outputId": "21248187-bd89-4ca7-c419-56e6d7b037cf",
        "colab": {
          "base_uri": "https://localhost:8080/",
          "height": 896
        }
      },
      "source": [
        "nb_accuracy = []\n",
        "nb_recall = []\n",
        "nb_f1 = []\n",
        "for emo in emotions:\n",
        "    print('Processing {}'.format(emo))\n",
        "    NB_pipeline.fit(X_train, train[emo])\n",
        "    prediction = NB_pipeline.predict(X_test)\n",
        "    print('Test accuracy is {}'.format(accuracy_score(test[emo], prediction)))\n",
        "    nb_accuracy.append(accuracy_score(test[emo], prediction)*100)\n",
        "    fscore = f1_score(test[emo], prediction)\n",
        "    recall = recall_score(test[emo], prediction)\n",
        "    nb_recall.append(recall)\n",
        "    nb_f1.append(fscore)\n",
        "    print('recall: {}'.format(recall))\n",
        "    print('fscore: {}'.format(fscore))"
      ],
      "execution_count": 30,
      "outputs": [
        {
          "output_type": "stream",
          "text": [
            "Processing anger\n",
            "Test accuracy is 0.6951871657754011\n",
            "recall: 0.05785123966942149\n",
            "fscore: 0.109375\n",
            "Processing anticipation\n",
            "Test accuracy is 0.6042780748663101\n",
            "recall: 0.9541284403669725\n",
            "fscore: 0.7375886524822695\n",
            "Processing disgust\n",
            "Test accuracy is 0.7540106951871658\n",
            "recall: 0.6474358974358975\n",
            "fscore: 0.6870748299319728\n",
            "Processing fear\n",
            "Test accuracy is 0.6898395721925134\n",
            "recall: 0.7435897435897436\n",
            "fscore: 0.7142857142857142\n",
            "Processing joy\n",
            "Test accuracy is 0.8128342245989305\n",
            "recall: 0.0\n",
            "fscore: 0.0\n",
            "Processing love\n",
            "Test accuracy is 0.9197860962566845\n",
            "recall: 0.0\n",
            "fscore: 0.0\n",
            "Processing optimism\n",
            "Test accuracy is 0.7406417112299465\n",
            "recall: 0.0\n",
            "fscore: 0.0\n",
            "Processing pessimism\n",
            "Test accuracy is 0.6978609625668449\n",
            "recall: 0.425\n",
            "fscore: 0.4744186046511628\n",
            "Processing sadness\n",
            "Test accuracy is 0.6363636363636364\n",
            "recall: 0.0\n",
            "fscore: 0.0\n",
            "Processing surprise\n",
            "Test accuracy is 0.8689839572192514\n",
            "recall: 0.0\n",
            "fscore: 0.0\n",
            "Processing trust\n",
            "Test accuracy is 0.839572192513369\n",
            "recall: 0.0\n",
            "fscore: 0.0\n",
            "Processing neutral\n",
            "Test accuracy is 0.8983957219251337\n",
            "recall: 0.0\n",
            "fscore: 0.0\n"
          ],
          "name": "stdout"
        }
      ]
    },
    {
      "cell_type": "markdown",
      "metadata": {
        "id": "yzfQVdZffw_D",
        "colab_type": "text"
      },
      "source": [
        "### LinearSVC"
      ]
    },
    {
      "cell_type": "code",
      "metadata": {
        "id": "cxMnSPYYfw_G",
        "colab_type": "code",
        "colab": {}
      },
      "source": [
        "SVC_pipeline = Pipeline([\n",
        "                ('tfidf', TfidfVectorizer(stop_words=stop_words)),\n",
        "                ('clf', OneVsRestClassifier(LinearSVC(), n_jobs=1)),\n",
        "            ])"
      ],
      "execution_count": 0,
      "outputs": []
    },
    {
      "cell_type": "code",
      "metadata": {
        "id": "nnVmGEfVfw_a",
        "colab_type": "code",
        "outputId": "14a7f580-4875-4054-fe47-abc578c7ea2a",
        "colab": {
          "base_uri": "https://localhost:8080/",
          "height": 896
        }
      },
      "source": [
        "svc_accuracy = []\n",
        "svc_recall = []\n",
        "svc_f1 = []\n",
        "for emo in emotions:\n",
        "    print('Processing {}'.format(emo))\n",
        "    SVC_pipeline.fit(X_train, train[emo])\n",
        "    prediction = SVC_pipeline.predict(X_test)\n",
        "    print('Test accuracy is {}'.format(accuracy_score(test[emo], prediction)))\n",
        "    svc_accuracy.append(accuracy_score(test[emo], prediction)*100)\n",
        "    fscore = f1_score(test[emo], prediction)\n",
        "    recall = recall_score(test[emo], prediction)\n",
        "    svc_recall.append(recall)\n",
        "    svc_f1.append(fscore)\n",
        "    print('recall: {}'.format(recall))\n",
        "    print('fscore: {}'.format(fscore))"
      ],
      "execution_count": 31,
      "outputs": [
        {
          "output_type": "stream",
          "text": [
            "Processing anger\n",
            "Test accuracy is 0.7486631016042781\n",
            "recall: 0.5206611570247934\n",
            "fscore: 0.5727272727272726\n",
            "Processing anticipation\n",
            "Test accuracy is 0.6256684491978609\n",
            "recall: 0.6605504587155964\n",
            "fscore: 0.6728971962616822\n",
            "Processing disgust\n",
            "Test accuracy is 0.7192513368983957\n",
            "recall: 0.6666666666666666\n",
            "fscore: 0.6645367412140575\n",
            "Processing fear\n",
            "Test accuracy is 0.6764705882352942\n",
            "recall: 0.5948717948717949\n",
            "fscore: 0.6572237960339944\n",
            "Processing joy\n",
            "Test accuracy is 0.820855614973262\n",
            "recall: 0.08571428571428572\n",
            "fscore: 0.1518987341772152\n",
            "Processing love\n",
            "Test accuracy is 0.9197860962566845\n",
            "recall: 0.03333333333333333\n",
            "fscore: 0.0625\n",
            "Processing optimism\n",
            "Test accuracy is 0.6978609625668449\n",
            "recall: 0.32989690721649484\n",
            "fscore: 0.3615819209039548\n",
            "Processing pessimism\n",
            "Test accuracy is 0.6818181818181818\n",
            "recall: 0.6\n",
            "fscore: 0.5475285171102662\n",
            "Processing sadness\n",
            "Test accuracy is 0.6657754010695187\n",
            "recall: 0.2426470588235294\n",
            "fscore: 0.34554973821989526\n",
            "Processing surprise\n",
            "Test accuracy is 0.8743315508021391\n",
            "recall: 0.061224489795918366\n",
            "fscore: 0.11320754716981131\n",
            "Processing trust\n",
            "Test accuracy is 0.8502673796791443\n",
            "recall: 0.1\n",
            "fscore: 0.17647058823529416\n",
            "Processing neutral\n",
            "Test accuracy is 0.8903743315508021\n",
            "recall: 0.07894736842105263\n",
            "fscore: 0.12765957446808512\n"
          ],
          "name": "stdout"
        }
      ]
    },
    {
      "cell_type": "markdown",
      "metadata": {
        "id": "DyOIKih4fw_r",
        "colab_type": "text"
      },
      "source": [
        "### Logistic Regression"
      ]
    },
    {
      "cell_type": "code",
      "metadata": {
        "id": "vXiGHqJWfw_u",
        "colab_type": "code",
        "outputId": "44b636ee-1736-46f2-9a4c-5868a80127ec",
        "colab": {
          "base_uri": "https://localhost:8080/",
          "height": 896
        }
      },
      "source": [
        "LogReg_pipeline = Pipeline([\n",
        "                ('tfidf', TfidfVectorizer(stop_words=stop_words)),\n",
        "                ('clf', OneVsRestClassifier(LogisticRegression(solver='sag'), n_jobs=1)),\n",
        "            ])\n",
        "\n",
        "lg_accuracy = []\n",
        "lg_recall = []\n",
        "lg_f1 = []\n",
        "for emo in emotions:\n",
        "    print('Processing {}'.format(emo))\n",
        "    # train the model using X_dtm & y\n",
        "    LogReg_pipeline.fit(X_train, train[emo])\n",
        "    # compute the testing accuracy\n",
        "    prediction = LogReg_pipeline.predict(X_test)\n",
        "    print('Test accuracy is {}'.format(accuracy_score(test[emo], prediction)))\n",
        "    lg_accuracy.append(accuracy_score(test[emo], prediction)*100)\n",
        "    fscore = f1_score(test[emo], prediction)\n",
        "    recall = recall_score(test[emo], prediction)\n",
        "    lg_recall.append(recall)\n",
        "    lg_f1.append(fscore)\n",
        "    print('recall: {}'.format(recall))\n",
        "    print('fscore: {}'.format(fscore))"
      ],
      "execution_count": 32,
      "outputs": [
        {
          "output_type": "stream",
          "text": [
            "Processing anger\n",
            "Test accuracy is 0.767379679144385\n",
            "recall: 0.4132231404958678\n",
            "fscore: 0.5347593582887701\n",
            "Processing anticipation\n",
            "Test accuracy is 0.6524064171122995\n",
            "recall: 0.6513761467889908\n",
            "fscore: 0.6859903381642513\n",
            "Processing disgust\n",
            "Test accuracy is 0.732620320855615\n",
            "recall: 0.6666666666666666\n",
            "fscore: 0.6753246753246753\n",
            "Processing fear\n",
            "Test accuracy is 0.6871657754010695\n",
            "recall: 0.5538461538461539\n",
            "fscore: 0.6486486486486487\n",
            "Processing joy\n",
            "Test accuracy is 0.8128342245989305\n",
            "recall: 0.0\n",
            "fscore: 0.0\n",
            "Processing love\n",
            "Test accuracy is 0.9197860962566845\n",
            "recall: 0.0\n",
            "fscore: 0.0\n",
            "Processing optimism\n",
            "Test accuracy is 0.7459893048128342\n",
            "recall: 0.15463917525773196\n",
            "fscore: 0.24\n",
            "Processing pessimism\n",
            "Test accuracy is 0.7192513368983957\n",
            "recall: 0.5416666666666666\n",
            "fscore: 0.5531914893617021\n",
            "Processing sadness\n",
            "Test accuracy is 0.660427807486631\n",
            "recall: 0.07352941176470588\n",
            "fscore: 0.1360544217687075\n",
            "Processing surprise\n",
            "Test accuracy is 0.8743315508021391\n",
            "recall: 0.04081632653061224\n",
            "fscore: 0.07843137254901959\n",
            "Processing trust\n",
            "Test accuracy is 0.8475935828877005\n",
            "recall: 0.05\n",
            "fscore: 0.09523809523809523\n",
            "Processing neutral\n",
            "Test accuracy is 0.8983957219251337\n",
            "recall: 0.0\n",
            "fscore: 0.0\n"
          ],
          "name": "stdout"
        }
      ]
    },
    {
      "cell_type": "markdown",
      "metadata": {
        "id": "4G35dFZfFqaC",
        "colab_type": "text"
      },
      "source": [
        "Random Forest Classifier"
      ]
    },
    {
      "cell_type": "code",
      "metadata": {
        "id": "iCKF6XP8E_K8",
        "colab_type": "code",
        "colab": {
          "base_uri": "https://localhost:8080/",
          "height": 896
        },
        "outputId": "edd371a5-6799-4cd5-f2c1-c341f8f8a4ff"
      },
      "source": [
        "Random_pipeline = Pipeline([\n",
        "                ('tfidf', TfidfVectorizer(stop_words=stop_words)),\n",
        "                ('clf', OneVsRestClassifier(RandomForestClassifier(n_estimators=100, max_depth=2, random_state=0), n_jobs=1)),\n",
        "            ])\n",
        "\n",
        "rf_accuracy = []\n",
        "rf_recall = []\n",
        "rf_f1 = []\n",
        "for emo in emotions:\n",
        "    print('Processing {}'.format(emo))\n",
        "    Random_pipeline.fit(X_train, train[emo])\n",
        "    prediction = Random_pipeline.predict(X_test)\n",
        "    print('Test accuracy is {}'.format(accuracy_score(test[emo], prediction)))\n",
        "    rf_accuracy.append(accuracy_score(test[emo], prediction)*100)\n",
        "    fscore = f1_score(test[emo], prediction)\n",
        "    recall = recall_score(test[emo], prediction)\n",
        "    rf_recall.append(recall)\n",
        "    rf_f1.append(fscore)\n",
        "    print('recall: {}'.format(recall))\n",
        "    print('fscore: {}'.format(fscore))"
      ],
      "execution_count": 38,
      "outputs": [
        {
          "output_type": "stream",
          "text": [
            "Processing anger\n",
            "Test accuracy is 0.6764705882352942\n",
            "recall: 0.0\n",
            "fscore: 0.0\n",
            "Processing anticipation\n",
            "Test accuracy is 0.6176470588235294\n",
            "recall: 0.5596330275229358\n",
            "fscore: 0.6304909560723514\n",
            "Processing disgust\n",
            "Test accuracy is 0.5989304812834224\n",
            "recall: 0.038461538461538464\n",
            "fscore: 0.07407407407407407\n",
            "Processing fear\n",
            "Test accuracy is 0.5213903743315508\n",
            "recall: 0.09230769230769231\n",
            "fscore: 0.1674418604651163\n",
            "Processing joy\n",
            "Test accuracy is 0.8128342245989305\n",
            "recall: 0.0\n",
            "fscore: 0.0\n",
            "Processing love\n",
            "Test accuracy is 0.9197860962566845\n",
            "recall: 0.0\n",
            "fscore: 0.0\n",
            "Processing optimism\n",
            "Test accuracy is 0.7406417112299465\n",
            "recall: 0.0\n",
            "fscore: 0.0\n",
            "Processing pessimism\n",
            "Test accuracy is 0.6764705882352942\n",
            "recall: 0.0\n",
            "fscore: 0.0\n",
            "Processing sadness\n",
            "Test accuracy is 0.6363636363636364\n",
            "recall: 0.0\n",
            "fscore: 0.0\n",
            "Processing surprise\n",
            "Test accuracy is 0.8689839572192514\n",
            "recall: 0.0\n",
            "fscore: 0.0\n",
            "Processing trust\n",
            "Test accuracy is 0.839572192513369\n",
            "recall: 0.0\n",
            "fscore: 0.0\n",
            "Processing neutral\n",
            "Test accuracy is 0.8983957219251337\n",
            "recall: 0.0\n",
            "fscore: 0.0\n"
          ],
          "name": "stdout"
        }
      ]
    },
    {
      "cell_type": "markdown",
      "metadata": {
        "id": "u6pw0GLqF0Dj",
        "colab_type": "text"
      },
      "source": [
        "Gradient Boosting"
      ]
    },
    {
      "cell_type": "code",
      "metadata": {
        "id": "kBGvAgq7EZ7T",
        "colab_type": "code",
        "colab": {
          "base_uri": "https://localhost:8080/",
          "height": 896
        },
        "outputId": "ad387525-07e4-4b57-9f6d-cb06b634d3d1"
      },
      "source": [
        "gb_pipeline = Pipeline([\n",
        "                ('tfidf', TfidfVectorizer(stop_words=stop_words)),\n",
        "                ('clf', OneVsRestClassifier(GradientBoostingClassifier(n_estimators=20, learning_rate=0.1, max_features=2, max_depth=2, random_state=0), n_jobs=1)),\n",
        "            ])\n",
        "\n",
        "gb_accuracy = []\n",
        "gb_recall = []\n",
        "gb_f1 = []\n",
        "for emo in emotions:\n",
        "    print('Processing {}'.format(emo))\n",
        "    gb_pipeline.fit(X_train, train[emo])\n",
        "    prediction = gb_pipeline.predict(X_test)\n",
        "    print('Test accuracy is {}'.format(accuracy_score(test[emo], prediction)))\n",
        "    gb_accuracy.append(accuracy_score(test[emo], prediction)*100)\n",
        "    fscore = f1_score(test[emo], prediction)\n",
        "    recall = recall_score(test[emo], prediction)\n",
        "    gb_recall.append(recall)\n",
        "    gb_f1.append(fscore)\n",
        "    print('recall: {}'.format(recall))\n",
        "    print('fscore: {}'.format(fscore))"
      ],
      "execution_count": 41,
      "outputs": [
        {
          "output_type": "stream",
          "text": [
            "Processing anger\n",
            "Test accuracy is 0.6764705882352942\n",
            "recall: 0.0\n",
            "fscore: 0.0\n",
            "Processing anticipation\n",
            "Test accuracy is 0.5187165775401069\n",
            "recall: 0.40825688073394495\n",
            "fscore: 0.49720670391061444\n",
            "Processing disgust\n",
            "Test accuracy is 0.5855614973262032\n",
            "recall: 0.019230769230769232\n",
            "fscore: 0.037267080745341616\n",
            "Processing fear\n",
            "Test accuracy is 0.48663101604278075\n",
            "recall: 0.020512820512820513\n",
            "fscore: 0.039999999999999994\n",
            "Processing joy\n",
            "Test accuracy is 0.8128342245989305\n",
            "recall: 0.0\n",
            "fscore: 0.0\n",
            "Processing love\n",
            "Test accuracy is 0.9197860962566845\n",
            "recall: 0.0\n",
            "fscore: 0.0\n",
            "Processing optimism\n",
            "Test accuracy is 0.7406417112299465\n",
            "recall: 0.0\n",
            "fscore: 0.0\n",
            "Processing pessimism\n",
            "Test accuracy is 0.6818181818181818\n",
            "recall: 0.008333333333333333\n",
            "fscore: 0.01652892561983471\n",
            "Processing sadness\n",
            "Test accuracy is 0.6363636363636364\n",
            "recall: 0.0\n",
            "fscore: 0.0\n",
            "Processing surprise\n",
            "Test accuracy is 0.8689839572192514\n",
            "recall: 0.0\n",
            "fscore: 0.0\n",
            "Processing trust\n",
            "Test accuracy is 0.839572192513369\n",
            "recall: 0.0\n",
            "fscore: 0.0\n",
            "Processing neutral\n",
            "Test accuracy is 0.8983957219251337\n",
            "recall: 0.0\n",
            "fscore: 0.0\n"
          ],
          "name": "stdout"
        }
      ]
    },
    {
      "cell_type": "code",
      "metadata": {
        "id": "ap4Pwa59EzXE",
        "colab_type": "code",
        "colab": {
          "base_uri": "https://localhost:8080/",
          "height": 175
        },
        "outputId": "176dfc96-7dcc-47d7-a949-60a98dcb79d0"
      },
      "source": [
        "emo_label = emotions\n",
        "models = ['Random Forest', 'Logistic Regression', 'Linear SVC', 'Naive Bayes']\n",
        "\n",
        "results = {'Classifier':emo_label, 'Random Forest':rf_accuracy, 'Logistic Regression':lg_accuracy, 'Linear SVC':svc_accuracy, 'Naive_Bayes':nb_accuracy}\n",
        "result_df = pd.DataFrame(results)\n",
        "result_df.set_index(\"Classifier\", inplace = True) \n",
        "#result_df\n",
        "result_t = result_df.T\n",
        "result_t"
      ],
      "execution_count": 35,
      "outputs": [
        {
          "output_type": "execute_result",
          "data": {
            "text/html": [
              "<div>\n",
              "<style scoped>\n",
              "    .dataframe tbody tr th:only-of-type {\n",
              "        vertical-align: middle;\n",
              "    }\n",
              "\n",
              "    .dataframe tbody tr th {\n",
              "        vertical-align: top;\n",
              "    }\n",
              "\n",
              "    .dataframe thead th {\n",
              "        text-align: right;\n",
              "    }\n",
              "</style>\n",
              "<table border=\"1\" class=\"dataframe\">\n",
              "  <thead>\n",
              "    <tr style=\"text-align: right;\">\n",
              "      <th>Classifier</th>\n",
              "      <th>anger</th>\n",
              "      <th>anticipation</th>\n",
              "      <th>disgust</th>\n",
              "      <th>fear</th>\n",
              "      <th>joy</th>\n",
              "      <th>love</th>\n",
              "      <th>optimism</th>\n",
              "      <th>pessimism</th>\n",
              "      <th>sadness</th>\n",
              "      <th>surprise</th>\n",
              "      <th>trust</th>\n",
              "      <th>neutral</th>\n",
              "    </tr>\n",
              "  </thead>\n",
              "  <tbody>\n",
              "    <tr>\n",
              "      <th>Random Forest</th>\n",
              "      <td>67.647059</td>\n",
              "      <td>61.764706</td>\n",
              "      <td>59.893048</td>\n",
              "      <td>52.139037</td>\n",
              "      <td>81.283422</td>\n",
              "      <td>91.97861</td>\n",
              "      <td>74.064171</td>\n",
              "      <td>67.647059</td>\n",
              "      <td>63.636364</td>\n",
              "      <td>86.898396</td>\n",
              "      <td>83.957219</td>\n",
              "      <td>89.839572</td>\n",
              "    </tr>\n",
              "    <tr>\n",
              "      <th>Logistic Regression</th>\n",
              "      <td>76.737968</td>\n",
              "      <td>65.240642</td>\n",
              "      <td>73.262032</td>\n",
              "      <td>68.716578</td>\n",
              "      <td>81.283422</td>\n",
              "      <td>91.97861</td>\n",
              "      <td>74.598930</td>\n",
              "      <td>71.925134</td>\n",
              "      <td>66.042781</td>\n",
              "      <td>87.433155</td>\n",
              "      <td>84.759358</td>\n",
              "      <td>89.839572</td>\n",
              "    </tr>\n",
              "    <tr>\n",
              "      <th>Linear SVC</th>\n",
              "      <td>74.866310</td>\n",
              "      <td>62.566845</td>\n",
              "      <td>71.925134</td>\n",
              "      <td>67.647059</td>\n",
              "      <td>82.085561</td>\n",
              "      <td>91.97861</td>\n",
              "      <td>69.786096</td>\n",
              "      <td>68.181818</td>\n",
              "      <td>66.577540</td>\n",
              "      <td>87.433155</td>\n",
              "      <td>85.026738</td>\n",
              "      <td>89.037433</td>\n",
              "    </tr>\n",
              "    <tr>\n",
              "      <th>Naive_Bayes</th>\n",
              "      <td>69.518717</td>\n",
              "      <td>60.427807</td>\n",
              "      <td>75.401070</td>\n",
              "      <td>68.983957</td>\n",
              "      <td>81.283422</td>\n",
              "      <td>91.97861</td>\n",
              "      <td>74.064171</td>\n",
              "      <td>69.786096</td>\n",
              "      <td>63.636364</td>\n",
              "      <td>86.898396</td>\n",
              "      <td>83.957219</td>\n",
              "      <td>89.839572</td>\n",
              "    </tr>\n",
              "  </tbody>\n",
              "</table>\n",
              "</div>"
            ],
            "text/plain": [
              "Classifier               anger  anticipation  ...      trust    neutral\n",
              "Random Forest        67.647059     61.764706  ...  83.957219  89.839572\n",
              "Logistic Regression  76.737968     65.240642  ...  84.759358  89.839572\n",
              "Linear SVC           74.866310     62.566845  ...  85.026738  89.037433\n",
              "Naive_Bayes          69.518717     60.427807  ...  83.957219  89.839572\n",
              "\n",
              "[4 rows x 12 columns]"
            ]
          },
          "metadata": {
            "tags": []
          },
          "execution_count": 35
        }
      ]
    },
    {
      "cell_type": "code",
      "metadata": {
        "id": "y317UjUJ_z0p",
        "colab_type": "code",
        "colab": {
          "base_uri": "https://localhost:8080/",
          "height": 175
        },
        "outputId": "7edd6158-4600-4f24-e1af-8b1621bb1b49"
      },
      "source": [
        "models = ['Random Forest', 'Logistic Regression', 'Linear SVC', 'Naive Bayes']\n",
        "results_f1 = {'Classifier':emotions, 'Random Forest':rf_f1, 'Logistic Regression':lg_f1, 'Linear SVC':svc_f1, 'Naive_Bayes':nb_f1}\n",
        "result_df_f1 = pd.DataFrame(results_f1)\n",
        "result_df_f1.set_index(\"Classifier\", inplace = True) \n",
        "#result_df\n",
        "result_t_f1 = result_df_f1.T\n",
        "result_t_f1"
      ],
      "execution_count": 37,
      "outputs": [
        {
          "output_type": "execute_result",
          "data": {
            "text/html": [
              "<div>\n",
              "<style scoped>\n",
              "    .dataframe tbody tr th:only-of-type {\n",
              "        vertical-align: middle;\n",
              "    }\n",
              "\n",
              "    .dataframe tbody tr th {\n",
              "        vertical-align: top;\n",
              "    }\n",
              "\n",
              "    .dataframe thead th {\n",
              "        text-align: right;\n",
              "    }\n",
              "</style>\n",
              "<table border=\"1\" class=\"dataframe\">\n",
              "  <thead>\n",
              "    <tr style=\"text-align: right;\">\n",
              "      <th>Classifier</th>\n",
              "      <th>anger</th>\n",
              "      <th>anticipation</th>\n",
              "      <th>disgust</th>\n",
              "      <th>fear</th>\n",
              "      <th>joy</th>\n",
              "      <th>love</th>\n",
              "      <th>optimism</th>\n",
              "      <th>pessimism</th>\n",
              "      <th>sadness</th>\n",
              "      <th>surprise</th>\n",
              "      <th>trust</th>\n",
              "      <th>neutral</th>\n",
              "    </tr>\n",
              "  </thead>\n",
              "  <tbody>\n",
              "    <tr>\n",
              "      <th>Random Forest</th>\n",
              "      <td>0.000000</td>\n",
              "      <td>0.630491</td>\n",
              "      <td>0.074074</td>\n",
              "      <td>0.167442</td>\n",
              "      <td>0.000000</td>\n",
              "      <td>0.0000</td>\n",
              "      <td>0.000000</td>\n",
              "      <td>0.000000</td>\n",
              "      <td>0.000000</td>\n",
              "      <td>0.000000</td>\n",
              "      <td>0.000000</td>\n",
              "      <td>0.00000</td>\n",
              "    </tr>\n",
              "    <tr>\n",
              "      <th>Logistic Regression</th>\n",
              "      <td>0.534759</td>\n",
              "      <td>0.685990</td>\n",
              "      <td>0.675325</td>\n",
              "      <td>0.648649</td>\n",
              "      <td>0.000000</td>\n",
              "      <td>0.0000</td>\n",
              "      <td>0.240000</td>\n",
              "      <td>0.553191</td>\n",
              "      <td>0.136054</td>\n",
              "      <td>0.078431</td>\n",
              "      <td>0.095238</td>\n",
              "      <td>0.00000</td>\n",
              "    </tr>\n",
              "    <tr>\n",
              "      <th>Linear SVC</th>\n",
              "      <td>0.572727</td>\n",
              "      <td>0.672897</td>\n",
              "      <td>0.664537</td>\n",
              "      <td>0.657224</td>\n",
              "      <td>0.151899</td>\n",
              "      <td>0.0625</td>\n",
              "      <td>0.361582</td>\n",
              "      <td>0.547529</td>\n",
              "      <td>0.345550</td>\n",
              "      <td>0.113208</td>\n",
              "      <td>0.176471</td>\n",
              "      <td>0.12766</td>\n",
              "    </tr>\n",
              "    <tr>\n",
              "      <th>Naive_Bayes</th>\n",
              "      <td>0.109375</td>\n",
              "      <td>0.737589</td>\n",
              "      <td>0.687075</td>\n",
              "      <td>0.714286</td>\n",
              "      <td>0.000000</td>\n",
              "      <td>0.0000</td>\n",
              "      <td>0.000000</td>\n",
              "      <td>0.474419</td>\n",
              "      <td>0.000000</td>\n",
              "      <td>0.000000</td>\n",
              "      <td>0.000000</td>\n",
              "      <td>0.00000</td>\n",
              "    </tr>\n",
              "  </tbody>\n",
              "</table>\n",
              "</div>"
            ],
            "text/plain": [
              "Classifier              anger  anticipation  ...     trust  neutral\n",
              "Random Forest        0.000000      0.630491  ...  0.000000  0.00000\n",
              "Logistic Regression  0.534759      0.685990  ...  0.095238  0.00000\n",
              "Linear SVC           0.572727      0.672897  ...  0.176471  0.12766\n",
              "Naive_Bayes          0.109375      0.737589  ...  0.000000  0.00000\n",
              "\n",
              "[4 rows x 12 columns]"
            ]
          },
          "metadata": {
            "tags": []
          },
          "execution_count": 37
        }
      ]
    },
    {
      "cell_type": "code",
      "metadata": {
        "id": "li-bwxDMAXyo",
        "colab_type": "code",
        "colab": {
          "base_uri": "https://localhost:8080/",
          "height": 175
        },
        "outputId": "1396bd4e-1c17-4b07-de2d-fcd1434ee285"
      },
      "source": [
        "models = ['Random Forest', 'Logistic Regression', 'Linear SVC', 'Naive Bayes']\n",
        "results_recall = {'Classifier':emotions, 'Random Forest':rf_recall, 'Logistic Regression':lg_recall, 'Linear SVC':svc_recall, 'Naive_Bayes':nb_recall}\n",
        "result_df_recall = pd.DataFrame(results_recall)\n",
        "result_df_recall.set_index(\"Classifier\", inplace = True) \n",
        "#result_df\n",
        "result_t_recall = result_df_recall.T\n",
        "result_t_recall"
      ],
      "execution_count": 36,
      "outputs": [
        {
          "output_type": "execute_result",
          "data": {
            "text/html": [
              "<div>\n",
              "<style scoped>\n",
              "    .dataframe tbody tr th:only-of-type {\n",
              "        vertical-align: middle;\n",
              "    }\n",
              "\n",
              "    .dataframe tbody tr th {\n",
              "        vertical-align: top;\n",
              "    }\n",
              "\n",
              "    .dataframe thead th {\n",
              "        text-align: right;\n",
              "    }\n",
              "</style>\n",
              "<table border=\"1\" class=\"dataframe\">\n",
              "  <thead>\n",
              "    <tr style=\"text-align: right;\">\n",
              "      <th>Classifier</th>\n",
              "      <th>anger</th>\n",
              "      <th>anticipation</th>\n",
              "      <th>disgust</th>\n",
              "      <th>fear</th>\n",
              "      <th>joy</th>\n",
              "      <th>love</th>\n",
              "      <th>optimism</th>\n",
              "      <th>pessimism</th>\n",
              "      <th>sadness</th>\n",
              "      <th>surprise</th>\n",
              "      <th>trust</th>\n",
              "      <th>neutral</th>\n",
              "    </tr>\n",
              "  </thead>\n",
              "  <tbody>\n",
              "    <tr>\n",
              "      <th>Random Forest</th>\n",
              "      <td>0.000000</td>\n",
              "      <td>0.559633</td>\n",
              "      <td>0.038462</td>\n",
              "      <td>0.092308</td>\n",
              "      <td>0.000000</td>\n",
              "      <td>0.000000</td>\n",
              "      <td>0.000000</td>\n",
              "      <td>0.000000</td>\n",
              "      <td>0.000000</td>\n",
              "      <td>0.000000</td>\n",
              "      <td>0.00</td>\n",
              "      <td>0.000000</td>\n",
              "    </tr>\n",
              "    <tr>\n",
              "      <th>Logistic Regression</th>\n",
              "      <td>0.413223</td>\n",
              "      <td>0.651376</td>\n",
              "      <td>0.666667</td>\n",
              "      <td>0.553846</td>\n",
              "      <td>0.000000</td>\n",
              "      <td>0.000000</td>\n",
              "      <td>0.154639</td>\n",
              "      <td>0.541667</td>\n",
              "      <td>0.073529</td>\n",
              "      <td>0.040816</td>\n",
              "      <td>0.05</td>\n",
              "      <td>0.000000</td>\n",
              "    </tr>\n",
              "    <tr>\n",
              "      <th>Linear SVC</th>\n",
              "      <td>0.520661</td>\n",
              "      <td>0.660550</td>\n",
              "      <td>0.666667</td>\n",
              "      <td>0.594872</td>\n",
              "      <td>0.085714</td>\n",
              "      <td>0.033333</td>\n",
              "      <td>0.329897</td>\n",
              "      <td>0.600000</td>\n",
              "      <td>0.242647</td>\n",
              "      <td>0.061224</td>\n",
              "      <td>0.10</td>\n",
              "      <td>0.078947</td>\n",
              "    </tr>\n",
              "    <tr>\n",
              "      <th>Naive_Bayes</th>\n",
              "      <td>0.057851</td>\n",
              "      <td>0.954128</td>\n",
              "      <td>0.647436</td>\n",
              "      <td>0.743590</td>\n",
              "      <td>0.000000</td>\n",
              "      <td>0.000000</td>\n",
              "      <td>0.000000</td>\n",
              "      <td>0.425000</td>\n",
              "      <td>0.000000</td>\n",
              "      <td>0.000000</td>\n",
              "      <td>0.00</td>\n",
              "      <td>0.000000</td>\n",
              "    </tr>\n",
              "  </tbody>\n",
              "</table>\n",
              "</div>"
            ],
            "text/plain": [
              "Classifier              anger  anticipation  ...  trust   neutral\n",
              "Random Forest        0.000000      0.559633  ...   0.00  0.000000\n",
              "Logistic Regression  0.413223      0.651376  ...   0.05  0.000000\n",
              "Linear SVC           0.520661      0.660550  ...   0.10  0.078947\n",
              "Naive_Bayes          0.057851      0.954128  ...   0.00  0.000000\n",
              "\n",
              "[4 rows x 12 columns]"
            ]
          },
          "metadata": {
            "tags": []
          },
          "execution_count": 36
        }
      ]
    },
    {
      "cell_type": "code",
      "metadata": {
        "id": "BF3mwbZfGmaV",
        "colab_type": "code",
        "colab": {
          "base_uri": "https://localhost:8080/",
          "height": 109
        },
        "outputId": "a479c0e2-f5a9-445a-d422-7e3a0f9a89f9"
      },
      "source": [
        "result_agg = result_df.agg(\"mean\", axis=\"rows\")\n",
        "result_agg.columns = [\"classifier\", \"accuracy\"]\n",
        "result_agg"
      ],
      "execution_count": 28,
      "outputs": [
        {
          "output_type": "execute_result",
          "data": {
            "text/plain": [
              "Random Forest          73.395722\n",
              "Logistic Regression    77.651515\n",
              "Linear SVC             76.426025\n",
              "Naive_Bayes            76.314617\n",
              "dtype: float64"
            ]
          },
          "metadata": {
            "tags": []
          },
          "execution_count": 28
        }
      ]
    },
    {
      "cell_type": "code",
      "metadata": {
        "id": "wU4I76qpHmd8",
        "colab_type": "code",
        "colab": {
          "base_uri": "https://localhost:8080/",
          "height": 620
        },
        "outputId": "f0d934bb-eb09-40b5-a583-05a77f49bc10"
      },
      "source": [
        "result_agg.plot(x='classifier', y='accuracy', kind='bar', legend=False, grid=True, figsize=(12, 8))\n",
        "plt.title(\"Comparison of different classifiers\")\n",
        "plt.ylabel('Accuracy', fontsize=12)\n",
        "plt.xlabel('Classifier', fontsize=12)"
      ],
      "execution_count": 29,
      "outputs": [
        {
          "output_type": "execute_result",
          "data": {
            "text/plain": [
              "Text(0.5, 0, 'Classifier')"
            ]
          },
          "metadata": {
            "tags": []
          },
          "execution_count": 29
        },
        {
          "output_type": "display_data",
          "data": {
            "image/png": "[encoded data removed]",
            "text/plain": [
              "<Figure size 864x576 with 1 Axes>"
            ]
          },
          "metadata": {
            "tags": [],
            "needs_background": "light"
          }
        }
      ]
    },
    {
      "cell_type": "code",
      "metadata": {
        "id": "nBTmElR5H0Df",
        "colab_type": "code",
        "colab": {}
      },
      "source": [
        "import spacy\n",
        "import en_core_web_sm\n",
        "import gensim\n",
        "from gensim import models\n",
        "from gensim.test import utils\n",
        "import numpy as np\n",
        "import re\n",
        "import glob\n",
        "from smart_open import smart_open\n",
        "import os\n",
        "import gensim\n",
        "from gensim.models import Doc2Vec\n",
        "from gensim.models.doc2vec import TaggedDocument\n",
        "from sklearn import utils\n",
        "from collections import namedtuple, defaultdict\n",
        "import logging\n",
        "from sklearn.feature_extraction.text import TfidfVectorizer\n",
        "\n",
        "# Source : https://github.com/elaine-peiru/Thesis_final/blob/master/UtilWordEmbedding.py\n",
        "# Convert text to lower-case and strip punctuation/symbols from words\n",
        "def normalize_text(text):\n",
        "\t\"\"\"\n",
        "\tRef: https://stackoverflow.com/questions/20802056/python-regular-expression-1\n",
        "\t:param text: string\n",
        "\t:return:\n",
        "\t\tclean string\n",
        "\t\"\"\"\n",
        "\tnorm_text = text.lower()\n",
        "\t# Replace breaks with spaces\n",
        "\tnorm_text = norm_text.replace('<br />', ' ')\n",
        "\t# Pad punctuation with spaces on both sides\n",
        "\tnorm_text = re.sub(r\"([\\.\\\",\\(\\)!\\?;:])\", r\" \\1 \", norm_text)\n",
        "\treturn norm_text\n",
        "\n",
        "\n",
        "def concat_files(dirname, folders):\n",
        "\t\"\"\"\n",
        "\tConcatenate text from files to one file, and return a file list.\n",
        "\t:param dirname: string of directory\n",
        "\t:param folders: list of folder names\n",
        "\t:return\n",
        "\t\tfiles: list of file paths\n",
        "\t\"\"\"\n",
        "\tfiles = []\n",
        "\n",
        "\tfor fol in folders:\n",
        "\t\toutput = fol.replace('/', '-') + '.txt'\n",
        "\t\ttxt_files = glob.glob(os.path.join(dirname, fol, '*.txt'))\n",
        "\t\tprint('{} records in {}...'.format(len(txt_files), output))\n",
        "\t\tfiles.append(output)\n",
        "\n",
        "\t\twith smart_open(os.path.join(dirname, output), 'wb') as n:\n",
        "\t\t\tfor i, txt in enumerate(txt_files):\n",
        "\t\t\t\twith smart_open(txt, 'rb') as f:\n",
        "\t\t\t\t\tone_text = f.read().decode('utf-8')  # from binary to string\n",
        "\t\t\t\t\tone_text = normalize_text(one_text)  # convert to lower-case and strip punctuations\n",
        "\t\t\t\t\tn.write(one_text.encode('utf-8') + b'\\n')  # from string to binary + newline\n",
        "\n",
        "\treturn files\n",
        "\n",
        "\n",
        "def select_imdb(select_num, dirname, files, file_splits, file_sentiments):\n",
        "\t\"\"\"\n",
        "\tSubset and split IMDB dataset into train/test.\n",
        "\t:param select_num: num of rows to select\n",
        "\t:param dirname: directory of txt files\n",
        "\t:param files: list of string name of files\n",
        "\t:param file_splits: list of string on train/test split\n",
        "\t:param file_sentiments: list of string on pos/neg sentiment label\n",
        "\t:return:\n",
        "\t\tlist of namedtuple\n",
        "\t\"\"\"\n",
        "\n",
        "\tsent_doc = namedtuple('sent_doc', ['words', 'tags', 'split', 'sentiment'])\n",
        "\tall_doc = []\n",
        "\tdoc_id = 0\n",
        "\tfor i, fi in enumerate(files[:-1]):\n",
        "\t\ts_ = file_splits[i]\n",
        "\t\tse_ = file_sentiments[i]\n",
        "\n",
        "\t\twith smart_open(os.path.join(dirname, fi), 'rb', encoding='utf-8') as texts:\n",
        "\t\t\tfor line_no, line in enumerate(texts):\n",
        "\t\t\t\tif line_no < select_num:\n",
        "\t\t\t\t\ttokens = gensim.utils.to_unicode(line).split()\n",
        "\t\t\t\t\twords = tokens  # must be a list for doc2vec\n",
        "\t\t\t\t\ttags = [doc_id]  # must be a list for doc2vec\n",
        "\t\t\t\t\tdoc_id += 1\n",
        "\t\t\t\t\tsplit = s_\n",
        "\t\t\t\t\tsentiment = se_\n",
        "\t\t\t\t\tall_doc.append(sent_doc(words, tags, split, sentiment))\n",
        "\t\t\t\telse:\n",
        "\t\t\t\t\tbreak\n",
        "\n",
        "\treturn all_doc\n",
        "\n",
        "\n",
        "class DocPreprocess(object):\n",
        "\n",
        "\tdef __init__(self,\n",
        "\t\t\t\t nlp,\n",
        "\t\t\t\t stop_words,\n",
        "\t\t\t\t docs,\n",
        "\t\t\t\t labels,\n",
        "\t\t\t\t build_bi=False,\n",
        "\t\t\t\t min_count=5,\n",
        "\t\t\t\t threshold=10,\n",
        "\t\t\t\t allowed_postags=['ADV', 'VERB', 'ADJ', 'NOUN', 'PROPN', 'NUM']):\n",
        "\n",
        "\t\tself.nlp = nlp  # spacy nlp object\n",
        "\t\tself.stop_words = stop_words  # spacy.lang.en.stop_words.STOP_WORDS\n",
        "\t\tself.docs = docs  # docs must be either list or numpy array or series of docs\n",
        "\t\tself.labels = labels # labels must be list or or numpy array or series of labels\n",
        "\t\tself.doc_ids = np.arange(len(docs))\n",
        "\t\tself.simple_doc_tokens = [gensim.utils.simple_preprocess(doc, deacc=True) for doc in self.docs]\n",
        "\n",
        "\t\tif build_bi:\n",
        "\t\t\tself.bi_detector = self.build_bi_detect(self.simple_doc_tokens, min_count=min_count, threshold=threshold)\n",
        "\t\t\tself.new_docs = self.make_bigram_doc(self.bi_detector, self.simple_doc_tokens)\n",
        "\t\telse:\n",
        "\t\t\tself.new_docs = self.make_simple_doc(self.simple_doc_tokens)\n",
        "\t\tself.doc_words = [self.lemmatize(doc, allowed_postags=allowed_postags) for doc in self.new_docs]\n",
        "\t\tself.tagdocs = [TaggedDocument(words=words, tags=[tag]) for words, tag in zip(self.doc_words, self.doc_ids)]\n",
        "\n",
        "\n",
        "\tdef build_bi_detect(self, simple_doc_tokens, min_count, threshold):\n",
        "\t\tbi_ = gensim.models.phrases.Phrases(simple_doc_tokens, min_count=min_count, threshold=threshold)\n",
        "\t\tbi_detector = gensim.models.phrases.Phraser(bi_)  # wrapper enhance efficiency\n",
        "\t\treturn bi_detector\n",
        "\n",
        "\n",
        "\tdef make_bigram_doc(self, bi_detector, simple_doc_tokens):\n",
        "\t\tbi_doc_tokens = [bi_detector[doc_tokens] for doc_tokens in simple_doc_tokens]\n",
        "\t\tbi_docs = []\n",
        "\t\tfor bi_tokens in bi_doc_tokens:\n",
        "\t\t\tbi_doc = \" \".join(bi_tokens)  # concatenate back to a sentence\n",
        "\t\t\tbi_docs.append(bi_doc)\n",
        "\t\treturn bi_docs\n",
        "\n",
        "\n",
        "\tdef make_simple_doc(self, simple_doc_tokens):\n",
        "\t\tsimple_docs = []\n",
        "\t\tfor doc_tokens in simple_doc_tokens:\n",
        "\t\t\tsimple = \" \".join(doc_tokens)  # concatenate back to a sentence\n",
        "\t\t\tsimple_docs.append(simple)\n",
        "\t\treturn simple_docs\n",
        "\n",
        "\n",
        "\tdef lemmatize(self, doc, allowed_postags):\n",
        "\t\t\"\"\"\n",
        "\t\tLemmatize words and remove stop_words.\n",
        "\t\t:param doc: text\n",
        "\t\t:param allowed_postags: list of pos tags\n",
        "\t\t:return:\n",
        "\t\t\tlist of tokens\n",
        "\t\t\"\"\"\n",
        "\t\tdoc = self.nlp(doc)\n",
        "\t\ttokens = [token.lemma_ for token in doc if (\n",
        "\t\t\t\ttoken.pos_ in allowed_postags) and (token.text not in self.stop_words)]\n",
        "\t\treturn tokens\n",
        "\n",
        "\n",
        "\n",
        "class DocModel(object):\n",
        "\n",
        "\tdef __init__(self, docs, **kwargs):\n",
        "\t\t\"\"\"\n",
        "\t\t:param docs: list of TaggedDocument\n",
        "\t\t:param kwargs: dictionary of (key,value) for Doc2Vec arguments\n",
        "\t\t\"\"\"\n",
        "\t\tself.model = Doc2Vec(**kwargs)\n",
        "\t\tself.docs = docs\n",
        "\t\tself.model.build_vocab([x for x in self.docs])\n",
        "\n",
        "\tdef custom_train(self, fixed_lr=False, fixed_lr_epochs=None):\n",
        "\t\t\"\"\"\n",
        "\t\tTrain Doc2Vec with two options, without fixed learning rate(recommended) or with fixed learning rate.\n",
        "\t\tFixed learning rate also includes implementation of shuffling training dataset.\n",
        "\t\t:param fixed_lr: boolean\n",
        "\t\t:param fixed_lr_epochs: num of epochs for fixed lr training\n",
        "\t\t\"\"\"\n",
        "\t\tif not fixed_lr:\n",
        "\t\t\tself.model.train([x for x in self.docs],\n",
        "\t\t\t\t\t\t\t total_examples=len(self.docs),\n",
        "\t\t\t\t\t\t\t epochs=self.model.epochs)\n",
        "\t\telse:\n",
        "\t\t\tfor _ in range(fixed_lr_epochs):\n",
        "\t\t\t\tself.model.train(utils.shuffle([x for x in self.docs]),\n",
        "\t\t\t\t\t\t\t\t total_examples=len(self.docs),\n",
        "\t\t\t\t\t\t\t\t epochs=1)\n",
        "\t\t\t\tself.model.alpha -= 0.002\n",
        "\t\t\t\tself.model.min_alpha = self.model.alpha  # fixed learning rate\n",
        "\n",
        "\n",
        "\tdef test_orig_doc_infer(self):\n",
        "\t\t\"\"\"\n",
        "\t\tUse the original doc as input for model's vector inference,\n",
        "\t\tand then compare using most_similar()\n",
        "\t\tto see if model finds the original doc id be the most similar doc to the input.\n",
        "\t\t\"\"\"\n",
        "\t\tidx = np.random.randint(len(self.docs))\n",
        "\t\tprint('idx: ' + str(idx))\n",
        "\t\tdoc = [doc for doc in self.docs if doc.tags[0] == idx]\n",
        "\t\tinferred_vec = self.model.infer_vector(doc[0].words)\n",
        "\t\tprint(self.model.docvecs.most_similar([inferred_vec]))  # wrap vec in a list\n",
        "\n",
        "\n",
        "class MeanEmbeddingVectorizer(object):\n",
        "\n",
        "\n",
        "\tdef __init__(self, word_model):\n",
        "\t\tself.word_model = word_model\n",
        "\t\tself.vector_size = word_model.wv.vector_size\n",
        "\n",
        "\tdef fit(self):  # comply with scikit-learn transformer requirement\n",
        "\t\treturn self\n",
        "\n",
        "\tdef transform(self, docs):  # comply with scikit-learn transformer requirement\n",
        "\t\tdoc_word_vector = self.word_average_list(docs)\n",
        "\t\treturn doc_word_vector\n",
        "\n",
        "\tdef word_average(self, sent):\n",
        "\t\t\"\"\"\n",
        "\t\tCompute average word vector for a single doc/sentence.\n",
        "\t\t:param sent: list of sentence tokens\n",
        "\t\t:return:\n",
        "\t\t\tmean: float of averaging word vectors\n",
        "\t\t\"\"\"\n",
        "\t\tmean = []\n",
        "\t\tfor word in sent:\n",
        "\t\t\tif word in self.word_model.wv.vocab:\n",
        "\t\t\t\tmean.append(self.word_model.wv.get_vector(word))\n",
        "\n",
        "\t\tif not mean:  # empty words\n",
        "\t\t\t# If a text is empty, return a vector of zeros.\n",
        "\t\t\tlogging.warning(\"cannot compute average owing to no vector for {}\".format(sent))\n",
        "\t\t\treturn np.zeros(self.vector_size)\n",
        "\t\telse:\n",
        "\t\t\tmean = np.array(mean).mean(axis=0)\n",
        "\t\t\treturn mean\n",
        "\n",
        "\n",
        "\tdef word_average_list(self, docs):\n",
        "\t\t\"\"\"\n",
        "\t\tCompute average word vector for multiple docs, where docs had been tokenized.\n",
        "\t\t:param docs: list of sentence in list of separated tokens\n",
        "\t\t:return:\n",
        "\t\t\tarray of average word vector in shape (len(docs),)\n",
        "\t\t\"\"\"\n",
        "\t\treturn np.vstack([self.word_average(sent) for sent in docs])\n",
        "\n",
        "\n",
        "class TfidfEmbeddingVectorizer(object):\n",
        "\n",
        "\tdef __init__(self, word_model):\n",
        "\n",
        "\t\tself.word_model = word_model\n",
        "\t\tself.word_idf_weight = None\n",
        "\t\tself.vector_size = word_model.wv.vector_size\n",
        "\n",
        "\tdef fit(self, docs):  # comply with scikit-learn transformer requirement\n",
        "\t\t\"\"\"\n",
        "\t\tFit in a list of docs, which had been preprocessed and tokenized,\n",
        "\t\tsuch as word bi-grammed, stop-words removed, lemmatized, part of speech filtered.\n",
        "\t\tThen build up a tfidf model to compute each word's idf as its weight.\n",
        "\t\tNoted that tf weight is already involved when constructing average word vectors, and thus omitted.\n",
        "\t\t:param\n",
        "\t\t\tpre_processed_docs: list of docs, which are tokenized\n",
        "\t\t:return:\n",
        "\t\t\tself\n",
        "\t\t\"\"\"\n",
        "\n",
        "\t\ttext_docs = []\n",
        "\t\tfor doc in docs:\n",
        "\t\t\ttext_docs.append(\" \".join(doc))\n",
        "\n",
        "\t\ttfidf = TfidfVectorizer()\n",
        "\t\ttfidf.fit(text_docs)  # must be list of text string\n",
        "\n",
        "\t\t# if a word was never seen - it must be at least as infrequent\n",
        "\t\t# as any of the known words - so the default idf is the max of\n",
        "\t\t# known idf's\n",
        "\t\tmax_idf = max(tfidf.idf_)  # used as default value for defaultdict\n",
        "\t\tself.word_idf_weight = defaultdict(lambda: max_idf,\n",
        "\t\t\t\t\t\t\t\t\t\t   [(word, tfidf.idf_[i]) for word, i in tfidf.vocabulary_.items()])\n",
        "\t\treturn self\n",
        "\n",
        "\n",
        "\tdef transform(self, docs):  # comply with scikit-learn transformer requirement\n",
        "\t\tdoc_word_vector = self.word_average_list(docs)\n",
        "\t\treturn doc_word_vector\n",
        "\n",
        "\n",
        "\tdef word_average(self, sent):\n",
        "\t\t\"\"\"\n",
        "\t\tCompute average word vector for a single doc/sentence.\n",
        "\t\t:param sent: list of sentence tokens\n",
        "\t\t:return:\n",
        "\t\t\tmean: float of averaging word vectors\n",
        "\t\t\"\"\"\n",
        "\n",
        "\t\tmean = []\n",
        "\t\tfor word in sent:\n",
        "\t\t\tif word in self.word_model.wv.vocab:\n",
        "\t\t\t\tmean.append(self.word_model.wv.get_vector(word) * self.word_idf_weight[word])  # idf weighted\n",
        "\n",
        "\t\tif not mean:  # empty words\n",
        "\t\t\t# If a text is empty, return a vector of zeros.\n",
        "\t\t\tlogging.warning(\"cannot compute average owing to no vector for {}\".format(sent))\n",
        "\t\t\treturn np.zeros(self.vector_size)\n",
        "\t\telse:\n",
        "\t\t\tmean = np.array(mean).mean(axis=0)\n",
        "\t\t\treturn mean\n",
        "\n",
        "\n",
        "\tdef word_average_list(self, docs):\n",
        "\t\t\"\"\"\n",
        "\t\tCompute average word vector for multiple docs, where docs had been tokenized.\n",
        "\t\t:param docs: list of sentence in list of separated tokens\n",
        "\t\t:return:\n",
        "\t\t\tarray of average word vector in shape (len(docs),)\n",
        "\t\t\"\"\"\n",
        "\t\treturn np.vstack([self.word_average(sent) for sent in docs])\n"
      ],
      "execution_count": 0,
      "outputs": []
    },
    {
      "cell_type": "code",
      "metadata": {
        "id": "68A5hSzBH52e",
        "colab_type": "code",
        "colab": {}
      },
      "source": [
        "\n",
        "#nlp = spacy.load('en_core_web_md')\n",
        "nlp = en_core_web_sm.load()\n",
        "stop_words = spacy.lang.en.stop_words.STOP_WORDS\n",
        "all_joy = DocPreprocess(nlp, stop_words, train['body'], train['joy'])"
      ],
      "execution_count": 0,
      "outputs": []
    },
    {
      "cell_type": "code",
      "metadata": {
        "id": "Xuh9s10DGlME",
        "colab_type": "code",
        "colab": {}
      },
      "source": [
        "word_model = Word2Vec(all_joy.doc_words, min_count=2, size=100, window=5, workers=2, iter=100)"
      ],
      "execution_count": 0,
      "outputs": []
    },
    {
      "cell_type": "code",
      "metadata": {
        "id": "5xRSud3OM3XP",
        "colab_type": "code",
        "colab": {
          "base_uri": "https://localhost:8080/",
          "height": 35
        },
        "outputId": "227b3c22-aa42-433a-c939-319397097ad2"
      },
      "source": [
        "tfidf_vec_tr = TfidfEmbeddingVectorizer(word_model)\n",
        "tfidf_vec_tr.fit(all_joy.doc_words)  # fit tfidf model first\n",
        "tfidf_doc_vec = tfidf_vec_tr.transform(all_joy.doc_words)\n",
        "display(tfidf_doc_vec.shape)\n",
        "dir_path = \"./\"\n",
        "np.savetxt(os.path.join(dir_path, 'tfidf_doc_vec.csv'), tfidf_doc_vec, delimiter=',')"
      ],
      "execution_count": 54,
      "outputs": [
        {
          "output_type": "display_data",
          "data": {
            "text/plain": [
              "(1493, 100)"
            ]
          },
          "metadata": {
            "tags": []
          }
        }
      ]
    },
    {
      "cell_type": "code",
      "metadata": {
        "id": "hSQJ1gw_OLhY",
        "colab_type": "code",
        "colab": {}
      },
      "source": [
        "import os\n",
        "\n",
        "tfidf_doc_vec = pd.read_csv(os.path.join(dir_path, 'tfidf_doc_vec.csv'), header=None)\n"
      ],
      "execution_count": 0,
      "outputs": []
    }
  ]
}