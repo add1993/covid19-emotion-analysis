{
  "nbformat": 4,
  "nbformat_minor": 0,
  "metadata": {
    "kernelspec": {
      "display_name": "Python 3",
      "language": "python",
      "name": "python3"
    },
    "language_info": {
      "codemirror_mode": {
        "name": "ipython",
        "version": 3
      },
      "file_extension": ".py",
      "mimetype": "text/x-python",
      "name": "python",
      "nbconvert_exporter": "python",
      "pygments_lexer": "ipython3",
      "version": "3.6.4"
    },
    "colab": {
      "name": "Multi label text classification.ipynb",
      "provenance": [],
      "toc_visible": true
    }
  },
  "cells": [
    {
      "cell_type": "code",
      "metadata": {
        "id": "E9K2sKt6grpf",
        "colab_type": "code",
        "colab": {
          "base_uri": "https://localhost:8080/",
          "height": 72
        },
        "outputId": "5928f051-b84a-4e99-995d-863c4c1118ee"
      },
      "source": [
        "import nltk\n",
        "nltk.download('stopwords')"
      ],
      "execution_count": 4,
      "outputs": [
        {
          "output_type": "stream",
          "text": [
            "[nltk_data] Downloading package stopwords to /root/nltk_data...\n",
            "[nltk_data]   Unzipping corpora/stopwords.zip.\n"
          ],
          "name": "stdout"
        },
        {
          "output_type": "execute_result",
          "data": {
            "text/plain": [
              "True"
            ]
          },
          "metadata": {
            "tags": []
          },
          "execution_count": 4
        }
      ]
    },
    {
      "cell_type": "code",
      "metadata": {
        "id": "wBs8mb3ofw1N",
        "colab_type": "code",
        "colab": {
          "base_uri": "https://localhost:8080/",
          "height": 54
        },
        "outputId": "9943f3dc-4034-4658-e1d1-6f9f62c5bdb8"
      },
      "source": [
        "%matplotlib inline\n",
        "import re\n",
        "import matplotlib\n",
        "import numpy as np\n",
        "import matplotlib.pyplot as plt\n",
        "import pandas as pd\n",
        "from sklearn.model_selection import train_test_split\n",
        "from sklearn.feature_extraction.text import TfidfVectorizer\n",
        "from sklearn.naive_bayes import MultinomialNB\n",
        "from sklearn.metrics import accuracy_score\n",
        "from sklearn.multiclass import OneVsRestClassifier\n",
        "from nltk.corpus import stopwords\n",
        "stop_words = set(stopwords.words('english'))\n",
        "from sklearn.svm import LinearSVC\n",
        "from sklearn.linear_model import LogisticRegression\n",
        "from sklearn.pipeline import Pipeline\n",
        "import seaborn as sns"
      ],
      "execution_count": 5,
      "outputs": [
        {
          "output_type": "stream",
          "text": [
            "/usr/local/lib/python3.6/dist-packages/statsmodels/tools/_testing.py:19: FutureWarning: pandas.util.testing is deprecated. Use the functions in the public API at pandas.testing instead.\n",
            "  import pandas.util.testing as tm\n"
          ],
          "name": "stderr"
        }
      ]
    },
    {
      "cell_type": "code",
      "metadata": {
        "id": "gq01pN6ifw2L",
        "colab_type": "code",
        "colab": {}
      },
      "source": [
        "df = pd.read_csv(\"nlp_train.csv\", encoding = \"ISO-8859-1\")"
      ],
      "execution_count": 0,
      "outputs": []
    },
    {
      "cell_type": "markdown",
      "metadata": {
        "id": "uKFx2Xb2fw3D",
        "colab_type": "text"
      },
      "source": [
        "### Number of comments in each category"
      ]
    },
    {
      "cell_type": "code",
      "metadata": {
        "id": "wS5NDp4ufw3f",
        "colab_type": "code",
        "outputId": "e57ab715-664a-4f23-e959-f32420609204",
        "colab": {
          "base_uri": "https://localhost:8080/",
          "height": 426
        }
      },
      "source": [
        "df_train = df.drop(['body'], axis=1)\n",
        "counts = []\n",
        "categories = list(df_train.columns.values)\n",
        "for i in categories:\n",
        "    counts.append((i, df_train[i].sum()))\n",
        "df_stats = pd.DataFrame(counts, columns=['category', 'number_of_comments'])\n",
        "df_stats"
      ],
      "execution_count": 9,
      "outputs": [
        {
          "output_type": "execute_result",
          "data": {
            "text/html": [
              "<div>\n",
              "<style scoped>\n",
              "    .dataframe tbody tr th:only-of-type {\n",
              "        vertical-align: middle;\n",
              "    }\n",
              "\n",
              "    .dataframe tbody tr th {\n",
              "        vertical-align: top;\n",
              "    }\n",
              "\n",
              "    .dataframe thead th {\n",
              "        text-align: right;\n",
              "    }\n",
              "</style>\n",
              "<table border=\"1\" class=\"dataframe\">\n",
              "  <thead>\n",
              "    <tr style=\"text-align: right;\">\n",
              "      <th></th>\n",
              "      <th>category</th>\n",
              "      <th>number_of_comments</th>\n",
              "    </tr>\n",
              "  </thead>\n",
              "  <tbody>\n",
              "    <tr>\n",
              "      <th>0</th>\n",
              "      <td>anger</td>\n",
              "      <td>544</td>\n",
              "    </tr>\n",
              "    <tr>\n",
              "      <th>1</th>\n",
              "      <td>anticipation</td>\n",
              "      <td>751</td>\n",
              "    </tr>\n",
              "    <tr>\n",
              "      <th>2</th>\n",
              "      <td>disgust</td>\n",
              "      <td>678</td>\n",
              "    </tr>\n",
              "    <tr>\n",
              "      <th>3</th>\n",
              "      <td>fear</td>\n",
              "      <td>678</td>\n",
              "    </tr>\n",
              "    <tr>\n",
              "      <th>4</th>\n",
              "      <td>joy</td>\n",
              "      <td>185</td>\n",
              "    </tr>\n",
              "    <tr>\n",
              "      <th>5</th>\n",
              "      <td>love</td>\n",
              "      <td>138</td>\n",
              "    </tr>\n",
              "    <tr>\n",
              "      <th>6</th>\n",
              "      <td>optimism</td>\n",
              "      <td>490</td>\n",
              "    </tr>\n",
              "    <tr>\n",
              "      <th>7</th>\n",
              "      <td>pessimism</td>\n",
              "      <td>646</td>\n",
              "    </tr>\n",
              "    <tr>\n",
              "      <th>8</th>\n",
              "      <td>sadness</td>\n",
              "      <td>414</td>\n",
              "    </tr>\n",
              "    <tr>\n",
              "      <th>9</th>\n",
              "      <td>surprise</td>\n",
              "      <td>162</td>\n",
              "    </tr>\n",
              "    <tr>\n",
              "      <th>10</th>\n",
              "      <td>trust</td>\n",
              "      <td>251</td>\n",
              "    </tr>\n",
              "    <tr>\n",
              "      <th>11</th>\n",
              "      <td>neutral</td>\n",
              "      <td>169</td>\n",
              "    </tr>\n",
              "  </tbody>\n",
              "</table>\n",
              "</div>"
            ],
            "text/plain": [
              "        category  number_of_comments\n",
              "0          anger                 544\n",
              "1   anticipation                 751\n",
              "2        disgust                 678\n",
              "3           fear                 678\n",
              "4            joy                 185\n",
              "5           love                 138\n",
              "6       optimism                 490\n",
              "7      pessimism                 646\n",
              "8        sadness                 414\n",
              "9       surprise                 162\n",
              "10         trust                 251\n",
              "11       neutral                 169"
            ]
          },
          "metadata": {
            "tags": []
          },
          "execution_count": 9
        }
      ]
    },
    {
      "cell_type": "code",
      "metadata": {
        "id": "nBTR1enUfw4J",
        "colab_type": "code",
        "outputId": "4c702258-4dd9-4785-8743-bcc31673cd60",
        "colab": {
          "base_uri": "https://localhost:8080/",
          "height": 420
        }
      },
      "source": [
        "df_stats.plot(x='category', y='number_of_comments', kind='bar', legend=False, grid=True, figsize=(8, 5))\n",
        "plt.title(\"Number of comments per category\")\n",
        "plt.ylabel('# of Occurrences', fontsize=12)\n",
        "plt.xlabel('category', fontsize=12)"
      ],
      "execution_count": 10,
      "outputs": [
        {
          "output_type": "execute_result",
          "data": {
            "text/plain": [
              "Text(0.5, 0, 'category')"
            ]
          },
          "metadata": {
            "tags": []
          },
          "execution_count": 10
        },
        {
          "output_type": "display_data",
          "data": {
            "image/png": "[encoded data removed]",
            "text/plain": [
              "<Figure size 576x360 with 1 Axes>"
            ]
          },
          "metadata": {
            "tags": [],
            "needs_background": "light"
          }
        }
      ]
    },
    {
      "cell_type": "markdown",
      "metadata": {
        "id": "tUydD0Jufw4p",
        "colab_type": "text"
      },
      "source": [
        "### Multi-Label\n",
        "\n",
        "How many comments have multiple labels?"
      ]
    },
    {
      "cell_type": "code",
      "metadata": {
        "id": "x2lihjjVfw4v",
        "colab_type": "code",
        "outputId": "1ae01ceb-04f5-4f99-9b1d-4697f69a62ba",
        "colab": {
          "base_uri": "https://localhost:8080/",
          "height": 371
        }
      },
      "source": [
        "rowsums = df.iloc[:,2:].sum(axis=1)\n",
        "x=rowsums.value_counts()\n",
        "\n",
        "#plot\n",
        "plt.figure(figsize=(8,5))\n",
        "ax = sns.barplot(x.index, x.values)\n",
        "plt.title(\"Multiple categories per comment\")\n",
        "plt.ylabel('# of Occurrences', fontsize=12)\n",
        "plt.xlabel('# of categories', fontsize=12)"
      ],
      "execution_count": 11,
      "outputs": [
        {
          "output_type": "execute_result",
          "data": {
            "text/plain": [
              "Text(0.5, 0, '# of categories')"
            ]
          },
          "metadata": {
            "tags": []
          },
          "execution_count": 11
        },
        {
          "output_type": "display_data",
          "data": {
            "image/png": "[encoded data removed]",
            "text/plain": [
              "<Figure size 576x360 with 1 Axes>"
            ]
          },
          "metadata": {
            "tags": [],
            "needs_background": "light"
          }
        }
      ]
    },
    {
      "cell_type": "markdown",
      "metadata": {
        "id": "7jRWoCoifw5Z",
        "colab_type": "text"
      },
      "source": [
        "Vast majority of the comment texts are not labeled."
      ]
    },
    {
      "cell_type": "markdown",
      "metadata": {
        "id": "C1W1NUc7fw5h",
        "colab_type": "text"
      },
      "source": [
        "The distribution of the number of words in comment texts."
      ]
    },
    {
      "cell_type": "code",
      "metadata": {
        "id": "7DjWbsYGfw5n",
        "colab_type": "code",
        "outputId": "ba1d3c18-8736-4e63-f495-c52ab09ad7b1",
        "colab": {
          "base_uri": "https://localhost:8080/",
          "height": 283
        }
      },
      "source": [
        "lens = df.body.str.len()\n",
        "lens.hist(bins = np.arange(0,5000,50))"
      ],
      "execution_count": 14,
      "outputs": [
        {
          "output_type": "execute_result",
          "data": {
            "text/plain": [
              "<matplotlib.axes._subplots.AxesSubplot at 0x7f34e6946d30>"
            ]
          },
          "metadata": {
            "tags": []
          },
          "execution_count": 14
        },
        {
          "output_type": "display_data",
          "data": {
            "image/png": "[encoded data removed]",
            "text/plain": [
              "<Figure size 432x288 with 1 Axes>"
            ]
          },
          "metadata": {
            "tags": [],
            "needs_background": "light"
          }
        }
      ]
    },
    {
      "cell_type": "markdown",
      "metadata": {
        "id": "pNFpK_vPfw6T",
        "colab_type": "text"
      },
      "source": [
        "Most of the comment text length are within 500 characters, with some outliers up to 5,000 characters long."
      ]
    },
    {
      "cell_type": "code",
      "metadata": {
        "id": "Iaw5BIsWfw6d",
        "colab_type": "code",
        "outputId": "3170ee42-d4cb-425c-de15-1a67176a725d",
        "colab": {
          "base_uri": "https://localhost:8080/",
          "height": 54
        }
      },
      "source": [
        "print('Percentage of comments that are not labelled:')\n",
        "print(len(df[(df['anger']==0) & (df['anticipation']==0) & (df['disgust']==0) & (df['fear']== 0) & (df['joy']==0) & (df['love']==0) & (df['optimism']==0) & (df['pessimism']==0) & (df['sadness']==0) & (df['surprise']==0) & (df['trust']==0) & (df['neutral']==0)]) / len(df))"
      ],
      "execution_count": 17,
      "outputs": [
        {
          "output_type": "stream",
          "text": [
            "Percentage of comments that are not labelled:\n",
            "0.01772816808929744\n"
          ],
          "name": "stdout"
        }
      ]
    },
    {
      "cell_type": "markdown",
      "metadata": {
        "id": "kjDh5gQBfw7E",
        "colab_type": "text"
      },
      "source": [
        "There is no missing comment in comment text column."
      ]
    },
    {
      "cell_type": "code",
      "metadata": {
        "id": "7TMnkfFwfw7H",
        "colab_type": "code",
        "outputId": "1985e2f9-483e-484c-d283-05a865fc3a13",
        "colab": {
          "base_uri": "https://localhost:8080/",
          "height": 54
        }
      },
      "source": [
        "print('Number of missing comments in comment text:')\n",
        "df['body'].isnull().sum()"
      ],
      "execution_count": 16,
      "outputs": [
        {
          "output_type": "stream",
          "text": [
            "Number of missing comments in comment text:\n"
          ],
          "name": "stdout"
        },
        {
          "output_type": "execute_result",
          "data": {
            "text/plain": [
              "0"
            ]
          },
          "metadata": {
            "tags": []
          },
          "execution_count": 16
        }
      ]
    },
    {
      "cell_type": "markdown",
      "metadata": {
        "id": "t6VpnkGlfw7i",
        "colab_type": "text"
      },
      "source": [
        "Have a peek the first comment, the text needs clean."
      ]
    },
    {
      "cell_type": "code",
      "metadata": {
        "id": "vkxdUF1Afw7l",
        "colab_type": "code",
        "outputId": "ceba4bc1-55f8-4e7d-cf02-f5034a37e885",
        "colab": {
          "base_uri": "https://localhost:8080/",
          "height": 55
        }
      },
      "source": [
        "df['body'][0]"
      ],
      "execution_count": 15,
      "outputs": [
        {
          "output_type": "execute_result",
          "data": {
            "text/plain": [
              "'He was answering a question about the criticism by the same individual s that were referring to it as The Chinese and Wuhan Corona Virus last week. But I guess blind hatred negates the ability to look at things objectively. Is he a jackass? Yes but this constant negativity from the moment he was nominated is exhausting.'"
            ]
          },
          "metadata": {
            "tags": []
          },
          "execution_count": 15
        }
      ]
    },
    {
      "cell_type": "code",
      "metadata": {
        "id": "6SYtk_spfw7-",
        "colab_type": "code",
        "colab": {}
      },
      "source": [
        "categories = ['anger', 'anticipation', 'disgust', 'fear', 'joy', 'love','optimism', 'pessimism', 'sadness', 'surprise', 'trust', 'neutral]"
      ],
      "execution_count": 0,
      "outputs": []
    },
    {
      "cell_type": "markdown",
      "metadata": {
        "id": "exEsYc2ofw8Q",
        "colab_type": "text"
      },
      "source": [
        "### Create a function to clean the text"
      ]
    },
    {
      "cell_type": "code",
      "metadata": {
        "id": "c9lthOb5fw8X",
        "colab_type": "code",
        "colab": {}
      },
      "source": [
        "def clean_text(text):\n",
        "    text = text.lower()\n",
        "    text = re.sub(r\"what's\", \"what is \", text)\n",
        "    text = re.sub(r\"\\'s\", \" \", text)\n",
        "    text = re.sub(r\"\\'ve\", \" have \", text)\n",
        "    text = re.sub(r\"can't\", \"can not \", text)\n",
        "    text = re.sub(r\"n't\", \" not \", text)\n",
        "    text = re.sub(r\"i'm\", \"i am \", text)\n",
        "    text = re.sub(r\"\\'re\", \" are \", text)\n",
        "    text = re.sub(r\"\\'d\", \" would \", text)\n",
        "    text = re.sub(r\"\\'ll\", \" will \", text)\n",
        "    text = re.sub(r\"\\'scuse\", \" excuse \", text)\n",
        "    text = re.sub('\\W', ' ', text)\n",
        "    text = re.sub('\\s+', ' ', text)\n",
        "    text = text.strip(' ')\n",
        "    return text"
      ],
      "execution_count": 0,
      "outputs": []
    },
    {
      "cell_type": "markdown",
      "metadata": {
        "id": "zvOygB3Ifw8u",
        "colab_type": "text"
      },
      "source": [
        "### Clean up comment_text column "
      ]
    },
    {
      "cell_type": "code",
      "metadata": {
        "id": "Mo_Znqd6fw81",
        "colab_type": "code",
        "colab": {}
      },
      "source": [
        "df['body'] = df['body'].map(lambda com : clean_text(com))"
      ],
      "execution_count": 0,
      "outputs": []
    },
    {
      "cell_type": "markdown",
      "metadata": {
        "id": "o9WOSLx4fw9F",
        "colab_type": "text"
      },
      "source": [
        "Much better!"
      ]
    },
    {
      "cell_type": "code",
      "metadata": {
        "id": "MK2rE0G3fw9J",
        "colab_type": "code",
        "outputId": "58ef4216-5d19-47d6-ca3d-8994f1fba399",
        "colab": {
          "base_uri": "https://localhost:8080/",
          "height": 55
        }
      },
      "source": [
        "df['body'][0]"
      ],
      "execution_count": 20,
      "outputs": [
        {
          "output_type": "execute_result",
          "data": {
            "text/plain": [
              "'he was answering a question about the criticism by the same individual s that were referring to it as the chinese and wuhan corona virus last week but i guess blind hatred negates the ability to look at things objectively is he a jackass yes but this constant negativity from the moment he was nominated is exhausting'"
            ]
          },
          "metadata": {
            "tags": []
          },
          "execution_count": 20
        }
      ]
    },
    {
      "cell_type": "markdown",
      "metadata": {
        "id": "VX8Qh4Avfw9k",
        "colab_type": "text"
      },
      "source": [
        "### Split to train and test sets"
      ]
    },
    {
      "cell_type": "code",
      "metadata": {
        "id": "rXugVmAPfw9p",
        "colab_type": "code",
        "colab": {}
      },
      "source": [
        "#train, test = train_test_split(df, random_state=42, test_size=0.33, shuffle=True)\n",
        "train = pd.read_csv(\"nlp_train.csv\", encoding = \"ISO-8859-1\")\n",
        "test = pd.read_csv(\"nlp_test.csv\", encoding = \"ISO-8859-1\")\n",
        "train = train.dropna()\n",
        "test = test.dropna()"
      ],
      "execution_count": 0,
      "outputs": []
    },
    {
      "cell_type": "code",
      "metadata": {
        "id": "9j1hTIVmfw-J",
        "colab_type": "code",
        "outputId": "dc7e4c4c-6b4d-4d8e-e729-f3809e05dd4a",
        "colab": {
          "base_uri": "https://localhost:8080/",
          "height": 54
        }
      },
      "source": [
        "X_train = train.body\n",
        "X_test = test.body\n",
        "train.replace(True, 1, inplace=True)\n",
        "train.replace(False, 0, inplace=True)\n",
        "test.replace(True, 1, inplace=True)\n",
        "test.replace(False, 0, inplace=True)\n",
        "print(X_train.shape)\n",
        "print(X_test.shape)"
      ],
      "execution_count": 31,
      "outputs": [
        {
          "output_type": "stream",
          "text": [
            "(1493,)\n",
            "(374,)\n"
          ],
          "name": "stdout"
        }
      ]
    },
    {
      "cell_type": "markdown",
      "metadata": {
        "id": "ERwtPhbxfw-d",
        "colab_type": "text"
      },
      "source": [
        "### Pipeline\n",
        "\n",
        "scikit-learn provides a Pipeline utility to help automate machine learning workflows. Pipelines are very common in Machine Learning systems, since there is a lot of data to manipulate and many data transformations to apply. So we will utilize pipeline to train every classifier."
      ]
    },
    {
      "cell_type": "markdown",
      "metadata": {
        "id": "cIeGYSedfw-g",
        "colab_type": "text"
      },
      "source": [
        "### OneVsRest multilabel strategy\n",
        "\n",
        "The Multi-label algorithm accepts a binary mask over multiple labels. The result for each prediction will be an array of 0s and 1s marking which class labels apply to each row input sample."
      ]
    },
    {
      "cell_type": "markdown",
      "metadata": {
        "id": "v365ik1lfw-i",
        "colab_type": "text"
      },
      "source": [
        "### Naive Bayes\n",
        "\n",
        "OneVsRest strategy can be used for multilabel learning, where a classifier is used to predict multiple labels for instance. Naive Bayes supports multi-class, but we are in a multi-label scenario, therefore, we wrapp Naive Bayes in the OneVsRestClassifier."
      ]
    },
    {
      "cell_type": "code",
      "metadata": {
        "id": "Xz9MKo-Dfw-k",
        "colab_type": "code",
        "colab": {}
      },
      "source": [
        "# Define a pipeline combining a text feature extractor with multi lable classifier\n",
        "NB_pipeline = Pipeline([\n",
        "                ('tfidf', TfidfVectorizer(stop_words=stop_words)),\n",
        "                ('clf', OneVsRestClassifier(MultinomialNB(\n",
        "                    fit_prior=True, class_prior=None))),\n",
        "            ])"
      ],
      "execution_count": 0,
      "outputs": []
    },
    {
      "cell_type": "code",
      "metadata": {
        "id": "rQnRWbk7fw-0",
        "colab_type": "code",
        "outputId": "15fe67de-dfd6-4d82-dbc1-452b7d4502b2",
        "colab": {
          "base_uri": "https://localhost:8080/",
          "height": 461
        }
      },
      "source": [
        "for category in categories:\n",
        "    print('... Processing {}'.format(category))\n",
        "    # train the model using X_dtm & y\n",
        "    NB_pipeline.fit(X_train, train[category])\n",
        "    # compute the testing accuracy\n",
        "    prediction = NB_pipeline.predict(X_test)\n",
        "    print('Test accuracy is {}'.format(accuracy_score(test[category], prediction)))"
      ],
      "execution_count": 33,
      "outputs": [
        {
          "output_type": "stream",
          "text": [
            "... Processing anger\n",
            "Test accuracy is 0.6951871657754011\n",
            "... Processing anticipation\n",
            "Test accuracy is 0.6042780748663101\n",
            "... Processing disgust\n",
            "Test accuracy is 0.7540106951871658\n",
            "... Processing fear\n",
            "Test accuracy is 0.6871657754010695\n",
            "... Processing joy\n",
            "Test accuracy is 0.8128342245989305\n",
            "... Processing love\n",
            "Test accuracy is 0.9197860962566845\n",
            "... Processing optimism\n",
            "Test accuracy is 0.7406417112299465\n",
            "... Processing pessimism\n",
            "Test accuracy is 0.6978609625668449\n",
            "... Processing sadness\n",
            "Test accuracy is 0.6363636363636364\n",
            "... Processing surprise\n",
            "Test accuracy is 0.8689839572192514\n",
            "... Processing trust\n",
            "Test accuracy is 0.839572192513369\n",
            "... Processing neutral\n",
            "Test accuracy is 0.8983957219251337\n"
          ],
          "name": "stdout"
        }
      ]
    },
    {
      "cell_type": "markdown",
      "metadata": {
        "id": "yzfQVdZffw_D",
        "colab_type": "text"
      },
      "source": [
        "### LinearSVC"
      ]
    },
    {
      "cell_type": "code",
      "metadata": {
        "id": "cxMnSPYYfw_G",
        "colab_type": "code",
        "colab": {}
      },
      "source": [
        "SVC_pipeline = Pipeline([\n",
        "                ('tfidf', TfidfVectorizer(stop_words=stop_words)),\n",
        "                ('clf', OneVsRestClassifier(LinearSVC(), n_jobs=1)),\n",
        "            ])"
      ],
      "execution_count": 0,
      "outputs": []
    },
    {
      "cell_type": "code",
      "metadata": {
        "id": "nnVmGEfVfw_a",
        "colab_type": "code",
        "outputId": "fae28912-8286-43dd-d3bc-aa790feac17d",
        "colab": {
          "base_uri": "https://localhost:8080/",
          "height": 461
        }
      },
      "source": [
        "for category in categories:\n",
        "    print('... Processing {}'.format(category))\n",
        "    # train the model using X_dtm & y\n",
        "    SVC_pipeline.fit(X_train, train[category])\n",
        "    # compute the testing accuracy\n",
        "    prediction = SVC_pipeline.predict(X_test)\n",
        "    print('Test accuracy is {}'.format(accuracy_score(test[category], prediction)))"
      ],
      "execution_count": 35,
      "outputs": [
        {
          "output_type": "stream",
          "text": [
            "... Processing anger\n",
            "Test accuracy is 0.7459893048128342\n",
            "... Processing anticipation\n",
            "Test accuracy is 0.6283422459893048\n",
            "... Processing disgust\n",
            "Test accuracy is 0.7219251336898396\n",
            "... Processing fear\n",
            "Test accuracy is 0.6764705882352942\n",
            "... Processing joy\n",
            "Test accuracy is 0.820855614973262\n",
            "... Processing love\n",
            "Test accuracy is 0.9197860962566845\n",
            "... Processing optimism\n",
            "Test accuracy is 0.7032085561497327\n",
            "... Processing pessimism\n",
            "Test accuracy is 0.679144385026738\n",
            "... Processing sadness\n",
            "Test accuracy is 0.6631016042780749\n",
            "... Processing surprise\n",
            "Test accuracy is 0.8743315508021391\n",
            "... Processing trust\n",
            "Test accuracy is 0.8502673796791443\n",
            "... Processing neutral\n",
            "Test accuracy is 0.8903743315508021\n"
          ],
          "name": "stdout"
        }
      ]
    },
    {
      "cell_type": "markdown",
      "metadata": {
        "id": "DyOIKih4fw_r",
        "colab_type": "text"
      },
      "source": [
        "### Logistic Regression"
      ]
    },
    {
      "cell_type": "code",
      "metadata": {
        "id": "vXiGHqJWfw_u",
        "colab_type": "code",
        "outputId": "20083048-e0ce-4906-cf31-bfd93ddbe866",
        "colab": {
          "base_uri": "https://localhost:8080/",
          "height": 461
        }
      },
      "source": [
        "LogReg_pipeline = Pipeline([\n",
        "                ('tfidf', TfidfVectorizer(stop_words=stop_words)),\n",
        "                ('clf', OneVsRestClassifier(LogisticRegression(solver='sag'), n_jobs=1)),\n",
        "            ])\n",
        "for category in categories:\n",
        "    print('... Processing {}'.format(category))\n",
        "    # train the model using X_dtm & y\n",
        "    LogReg_pipeline.fit(X_train, train[category])\n",
        "    # compute the testing accuracy\n",
        "    prediction = LogReg_pipeline.predict(X_test)\n",
        "    print('Test accuracy is {}'.format(accuracy_score(test[category], prediction)))"
      ],
      "execution_count": 36,
      "outputs": [
        {
          "output_type": "stream",
          "text": [
            "... Processing anger\n",
            "Test accuracy is 0.767379679144385\n",
            "... Processing anticipation\n",
            "Test accuracy is 0.6470588235294118\n",
            "... Processing disgust\n",
            "Test accuracy is 0.732620320855615\n",
            "... Processing fear\n",
            "Test accuracy is 0.6871657754010695\n",
            "... Processing joy\n",
            "Test accuracy is 0.8128342245989305\n",
            "... Processing love\n",
            "Test accuracy is 0.9197860962566845\n",
            "... Processing optimism\n",
            "Test accuracy is 0.7459893048128342\n",
            "... Processing pessimism\n",
            "Test accuracy is 0.7299465240641712\n",
            "... Processing sadness\n",
            "Test accuracy is 0.660427807486631\n",
            "... Processing surprise\n",
            "Test accuracy is 0.8743315508021391\n",
            "... Processing trust\n",
            "Test accuracy is 0.8475935828877005\n",
            "... Processing neutral\n",
            "Test accuracy is 0.8983957219251337\n"
          ],
          "name": "stdout"
        }
      ]
    }
  ]
}